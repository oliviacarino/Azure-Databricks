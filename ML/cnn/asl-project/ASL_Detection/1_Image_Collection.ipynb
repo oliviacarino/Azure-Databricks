{
 "cells": [
  {
   "cell_type": "markdown",
   "metadata": {},
   "source": [
    "# 1. Import Dependencies"
   ]
  },
  {
   "cell_type": "code",
   "execution_count": 1,
   "metadata": {},
   "outputs": [
    {
     "name": "stdout",
     "output_type": "stream",
     "text": [
      "Requirement already satisfied: opencv-python in ./tfod/lib/python3.9/site-packages (4.7.0.72)\r\n",
      "Requirement already satisfied: numpy>=1.17.3 in ./tfod/lib/python3.9/site-packages (from opencv-python) (1.24.2)\r\n"
     ]
    }
   ],
   "source": [
    "!pip install opencv-python"
   ]
  },
  {
   "cell_type": "code",
   "execution_count": 2,
   "metadata": {},
   "outputs": [],
   "source": [
    "# Import opencv\n",
    "import cv2 \n",
    "\n",
    "# Import uuid -- uniquely labels images after capturing\n",
    "import uuid\n",
    "\n",
    "# Import Operating System\n",
    "import os\n",
    "\n",
    "# Import time -- 2 second intervals between capturing each label\n",
    "import time"
   ]
  },
  {
   "cell_type": "markdown",
   "metadata": {},
   "source": [
    "# 2. Define Images to Collect"
   ]
  },
  {
   "cell_type": "code",
   "execution_count": 3,
   "metadata": {},
   "outputs": [],
   "source": [
    "labels = ['A', 'B', 'C', 'D', 'E', 'F', 'G', 'H', 'I', 'J', 'K', 'L', 'M', 'N', 'O', 'P', 'Q', 'R', 'S', 'T', 'U', 'V',\n",
    "         'W', 'X', 'Y', 'Z', 'nothing', 'space', 'delete']\n",
    "number_imgs = 10"
   ]
  },
  {
   "cell_type": "markdown",
   "metadata": {},
   "source": [
    "# 3. Setup Folders "
   ]
  },
  {
   "cell_type": "code",
   "execution_count": 4,
   "metadata": {},
   "outputs": [],
   "source": [
    "IMAGES_PATH = os.path.join('Tensorflow', 'workspace', 'images', 'collectedimages')"
   ]
  },
  {
   "cell_type": "code",
   "execution_count": 7,
   "metadata": {},
   "outputs": [],
   "source": [
    "# Make folders \n",
    "if not os.path.exists(IMAGES_PATH):\n",
    "    if os.name == 'posix': # UNIX OS\n",
    "        !mkdir -p {IMAGES_PATH}\n",
    "    if os.name == 'nt':    # Windows OS\n",
    "         !mkdir {IMAGES_PATH}\n",
    "for label in labels:\n",
    "    path = os.path.join(IMAGES_PATH, label)\n",
    "    if not os.path.exists(path):\n",
    "        !mkdir {path}"
   ]
  },
  {
   "cell_type": "markdown",
   "metadata": {},
   "source": [
    "# 4. Capture Images"
   ]
  },
  {
   "cell_type": "code",
   "execution_count": null,
   "metadata": {},
   "outputs": [],
   "source": [
    "for label in labels:\n",
    "    cap = cv2.VideoCapture(0)\n",
    "    print('Collecting images for {}'.format(label))\n",
    "    time.sleep(5)\n",
    "    for imgnum in range(number_imgs):\n",
    "        print('Collecting image {}'.format(imgnum))\n",
    "        ret, frame = cap.read()\n",
    "        imgname = os.path.join(IMAGES_PATH,label,label+'.'+'{}.jpg'.format(str(uuid.uuid1())))\n",
    "        cv2.imwrite(imgname, frame)\n",
    "        cv2.imshow('frame', frame)\n",
    "        time.sleep(2)\n",
    "\n",
    "        if cv2.waitKey(1) & 0xFF == ord('q'):\n",
    "            break\n",
    "cap.release()\n",
    "cv2.destroyAllWindows()"
   ]
  },
  {
   "cell_type": "code",
   "execution_count": null,
   "metadata": {},
   "outputs": [],
   "source": [
    "# Collect more images for G + 1, P + 7, U + 1, X + 2\n",
    "# G labels[6]\n",
    "# P labels[15]\n",
    "# U labels[20]\n",
    "# X labels[23]\n",
    "for label in labels:\n",
    "    if label == 'G' or label == 'P' or label == 'U' or label == 'X':\n",
    "        cap = cv2.VideoCapture(0)\n",
    "        print('Collecting images for {}'.format(label))\n",
    "        time.sleep(5)\n",
    "        for imgnum in range(7):\n",
    "            print('Collecting image {}'.format(imgnum))\n",
    "            ret, frame = cap.read()\n",
    "            imgname = os.path.join(IMAGES_PATH,label,label+'.'+'{}.jpg'.format(str(uuid.uuid1())))\n",
    "            cv2.imwrite(imgname, frame)\n",
    "            cv2.imshow('frame', frame)\n",
    "            time.sleep(2)\n",
    "\n",
    "            if cv2.waitKey(1) & 0xFF == ord('q'):\n",
    "                break\n",
    "            \n",
    "cap.release()\n",
    "cv2.destroyAllWindows()"
   ]
  },
  {
   "cell_type": "markdown",
   "metadata": {},
   "source": [
    "# 5. Image Labelling"
   ]
  },
  {
   "cell_type": "code",
   "execution_count": 5,
   "metadata": {},
   "outputs": [
    {
     "name": "stdout",
     "output_type": "stream",
     "text": [
      "Requirement already satisfied: pyqt5 in ./tfod/lib/python3.9/site-packages (5.15.9)\n",
      "Requirement already satisfied: lxml in ./tfod/lib/python3.9/site-packages (4.9.2)\n",
      "Requirement already satisfied: PyQt5-sip<13,>=12.11 in ./tfod/lib/python3.9/site-packages (from pyqt5) (12.11.1)\n",
      "Requirement already satisfied: PyQt5-Qt5>=5.15.2 in ./tfod/lib/python3.9/site-packages (from pyqt5) (5.15.2)\n"
     ]
    }
   ],
   "source": [
    "!pip install --upgrade pyqt5 lxml"
   ]
  },
  {
   "cell_type": "code",
   "execution_count": 6,
   "metadata": {},
   "outputs": [],
   "source": [
    "LABELIMG_PATH = os.path.join('Tensorflow', 'labelimg')"
   ]
  },
  {
   "cell_type": "code",
   "execution_count": 7,
   "metadata": {},
   "outputs": [],
   "source": [
    "if not os.path.exists(LABELIMG_PATH):\n",
    "    !mkdir {LABELIMG_PATH}\n",
    "    !git clone https://github.com/tzutalin/labelImg {LABELIMG_PATH}"
   ]
  },
  {
   "cell_type": "code",
   "execution_count": 8,
   "metadata": {},
   "outputs": [
    {
     "name": "stdout",
     "output_type": "stream",
     "text": [
      "pyrcc5 -o libs/resources.py resources.qrc\r\n"
     ]
    }
   ],
   "source": [
    "if os.name == 'posix':\n",
    "    !cd {LABELIMG_PATH} && make qt5py3\n",
    "if os.name =='nt':\n",
    "    !cd {LABELIMG_PATH} && pyrcc5 -o libs/resources.py resources.qrc"
   ]
  },
  {
   "cell_type": "code",
   "execution_count": null,
   "metadata": {},
   "outputs": [
    {
     "name": "stdout",
     "output_type": "stream",
     "text": [
      "Image:/Users/olivia/Dropbox/Coding/Python/ML/cnn/asl-project/ASL_Detection/Tensorflow/workspace/images/collectedimages/delete/delete.add84ae0-c9bd-11ed-8ceb-38f9d362366a.jpg -> Annotation:/Users/olivia/Dropbox/Coding/Python/ML/cnn/asl-project/ASL_Detection/Tensorflow/workspace/images/collectedimages/delete/delete.add84ae0-c9bd-11ed-8ceb-38f9d362366a.xml\n",
      "Image:/Users/olivia/Dropbox/Coding/Python/ML/cnn/asl-project/ASL_Detection/Tensorflow/workspace/images/collectedimages/delete/delete.af1449c2-c9bd-11ed-8ceb-38f9d362366a.jpg -> Annotation:/Users/olivia/Dropbox/Coding/Python/ML/cnn/asl-project/ASL_Detection/Tensorflow/workspace/images/collectedimages/delete/delete.af1449c2-c9bd-11ed-8ceb-38f9d362366a.xml\n",
      "Image:/Users/olivia/Dropbox/Coding/Python/ML/cnn/asl-project/ASL_Detection/Tensorflow/workspace/images/collectedimages/delete/delete.b2bdba9a-c9bd-11ed-8ceb-38f9d362366a.jpg -> Annotation:/Users/olivia/Dropbox/Coding/Python/ML/cnn/asl-project/ASL_Detection/Tensorflow/workspace/images/collectedimages/delete/delete.b2bdba9a-c9bd-11ed-8ceb-38f9d362366a.xml\n",
      "Cancel creation.\n",
      "Image:/Users/olivia/Dropbox/Coding/Python/ML/cnn/asl-project/ASL_Detection/Tensorflow/workspace/images/collectedimages/delete/delete.b3f88d68-c9bd-11ed-8ceb-38f9d362366a.jpg -> Annotation:/Users/olivia/Dropbox/Coding/Python/ML/cnn/asl-project/ASL_Detection/Tensorflow/workspace/images/collectedimages/delete/delete.b3f88d68-c9bd-11ed-8ceb-38f9d362366a.xml\n",
      "Image:/Users/olivia/Dropbox/Coding/Python/ML/cnn/asl-project/ASL_Detection/Tensorflow/workspace/images/collectedimages/delete/delete.b04cf302-c9bd-11ed-8ceb-38f9d362366a.jpg -> Annotation:/Users/olivia/Dropbox/Coding/Python/ML/cnn/asl-project/ASL_Detection/Tensorflow/workspace/images/collectedimages/delete/delete.b04cf302-c9bd-11ed-8ceb-38f9d362366a.xml\n",
      "Image:/Users/olivia/Dropbox/Coding/Python/ML/cnn/asl-project/ASL_Detection/Tensorflow/workspace/images/collectedimages/delete/delete.b7aac098-c9bd-11ed-8ceb-38f9d362366a.jpg -> Annotation:/Users/olivia/Dropbox/Coding/Python/ML/cnn/asl-project/ASL_Detection/Tensorflow/workspace/images/collectedimages/delete/delete.b7aac098-c9bd-11ed-8ceb-38f9d362366a.xml\n",
      "Image:/Users/olivia/Dropbox/Coding/Python/ML/cnn/asl-project/ASL_Detection/Tensorflow/workspace/images/collectedimages/delete/delete.b8e54230-c9bd-11ed-8ceb-38f9d362366a.jpg -> Annotation:/Users/olivia/Dropbox/Coding/Python/ML/cnn/asl-project/ASL_Detection/Tensorflow/workspace/images/collectedimages/delete/delete.b8e54230-c9bd-11ed-8ceb-38f9d362366a.xml\n",
      "Image:/Users/olivia/Dropbox/Coding/Python/ML/cnn/asl-project/ASL_Detection/Tensorflow/workspace/images/collectedimages/delete/delete.b66e3aa2-c9bd-11ed-8ceb-38f9d362366a.jpg -> Annotation:/Users/olivia/Dropbox/Coding/Python/ML/cnn/asl-project/ASL_Detection/Tensorflow/workspace/images/collectedimages/delete/delete.b66e3aa2-c9bd-11ed-8ceb-38f9d362366a.xml\n",
      "Image:/Users/olivia/Dropbox/Coding/Python/ML/cnn/asl-project/ASL_Detection/Tensorflow/workspace/images/collectedimages/delete/delete.b1867bee-c9bd-11ed-8ceb-38f9d362366a.jpg -> Annotation:/Users/olivia/Dropbox/Coding/Python/ML/cnn/asl-project/ASL_Detection/Tensorflow/workspace/images/collectedimages/delete/delete.b1867bee-c9bd-11ed-8ceb-38f9d362366a.xml\n",
      "Image:/Users/olivia/Dropbox/Coding/Python/ML/cnn/asl-project/ASL_Detection/Tensorflow/workspace/images/collectedimages/delete/delete.b5333df4-c9bd-11ed-8ceb-38f9d362366a.jpg -> Annotation:/Users/olivia/Dropbox/Coding/Python/ML/cnn/asl-project/ASL_Detection/Tensorflow/workspace/images/collectedimages/delete/delete.b5333df4-c9bd-11ed-8ceb-38f9d362366a.xml\n",
      "Cancel creation.\n",
      "Image:/Users/olivia/Dropbox/Coding/Python/ML/cnn/asl-project/ASL_Detection/Tensorflow/workspace/images/collectedimages/space/space.9e8f9250-c9bd-11ed-8ceb-38f9d362366a.jpg -> Annotation:/Users/olivia/Dropbox/Coding/Python/ML/cnn/asl-project/ASL_Detection/Tensorflow/workspace/images/collectedimages/space/space.9e8f9250-c9bd-11ed-8ceb-38f9d362366a.xml\n",
      "Image:/Users/olivia/Dropbox/Coding/Python/ML/cnn/asl-project/ASL_Detection/Tensorflow/workspace/images/collectedimages/space/space.9fcf65c8-c9bd-11ed-8ceb-38f9d362366a.jpg -> Annotation:/Users/olivia/Dropbox/Coding/Python/ML/cnn/asl-project/ASL_Detection/Tensorflow/workspace/images/collectedimages/space/space.9fcf65c8-c9bd-11ed-8ceb-38f9d362366a.xml\n",
      "Image:/Users/olivia/Dropbox/Coding/Python/ML/cnn/asl-project/ASL_Detection/Tensorflow/workspace/images/collectedimages/space/space.a4b2aa00-c9bd-11ed-8ceb-38f9d362366a.jpg -> Annotation:/Users/olivia/Dropbox/Coding/Python/ML/cnn/asl-project/ASL_Detection/Tensorflow/workspace/images/collectedimages/space/space.a4b2aa00-c9bd-11ed-8ceb-38f9d362366a.xml\n",
      "Image:/Users/olivia/Dropbox/Coding/Python/ML/cnn/asl-project/ASL_Detection/Tensorflow/workspace/images/collectedimages/space/space.a5eb5e94-c9bd-11ed-8ceb-38f9d362366a.jpg -> Annotation:/Users/olivia/Dropbox/Coding/Python/ML/cnn/asl-project/ASL_Detection/Tensorflow/workspace/images/collectedimages/space/space.a5eb5e94-c9bd-11ed-8ceb-38f9d362366a.xml\n",
      "Image:/Users/olivia/Dropbox/Coding/Python/ML/cnn/asl-project/ASL_Detection/Tensorflow/workspace/images/collectedimages/space/space.a23fa02a-c9bd-11ed-8ceb-38f9d362366a.jpg -> Annotation:/Users/olivia/Dropbox/Coding/Python/ML/cnn/asl-project/ASL_Detection/Tensorflow/workspace/images/collectedimages/space/space.a23fa02a-c9bd-11ed-8ceb-38f9d362366a.xml\n",
      "Image:/Users/olivia/Dropbox/Coding/Python/ML/cnn/asl-project/ASL_Detection/Tensorflow/workspace/images/collectedimages/space/space.a85d3436-c9bd-11ed-8ceb-38f9d362366a.jpg -> Annotation:/Users/olivia/Dropbox/Coding/Python/ML/cnn/asl-project/ASL_Detection/Tensorflow/workspace/images/collectedimages/space/space.a85d3436-c9bd-11ed-8ceb-38f9d362366a.xml\n",
      "Image:/Users/olivia/Dropbox/Coding/Python/ML/cnn/asl-project/ASL_Detection/Tensorflow/workspace/images/collectedimages/space/space.a107db78-c9bd-11ed-8ceb-38f9d362366a.jpg -> Annotation:/Users/olivia/Dropbox/Coding/Python/ML/cnn/asl-project/ASL_Detection/Tensorflow/workspace/images/collectedimages/space/space.a107db78-c9bd-11ed-8ceb-38f9d362366a.xml\n",
      "Image:/Users/olivia/Dropbox/Coding/Python/ML/cnn/asl-project/ASL_Detection/Tensorflow/workspace/images/collectedimages/space/space.a379e536-c9bd-11ed-8ceb-38f9d362366a.jpg -> Annotation:/Users/olivia/Dropbox/Coding/Python/ML/cnn/asl-project/ASL_Detection/Tensorflow/workspace/images/collectedimages/space/space.a379e536-c9bd-11ed-8ceb-38f9d362366a.xml\n",
      "Image:/Users/olivia/Dropbox/Coding/Python/ML/cnn/asl-project/ASL_Detection/Tensorflow/workspace/images/collectedimages/space/space.a722d3dc-c9bd-11ed-8ceb-38f9d362366a.jpg -> Annotation:/Users/olivia/Dropbox/Coding/Python/ML/cnn/asl-project/ASL_Detection/Tensorflow/workspace/images/collectedimages/space/space.a722d3dc-c9bd-11ed-8ceb-38f9d362366a.xml\n",
      "Image:/Users/olivia/Dropbox/Coding/Python/ML/cnn/asl-project/ASL_Detection/Tensorflow/workspace/images/collectedimages/space/space.a99919aa-c9bd-11ed-8ceb-38f9d362366a.jpg -> Annotation:/Users/olivia/Dropbox/Coding/Python/ML/cnn/asl-project/ASL_Detection/Tensorflow/workspace/images/collectedimages/space/space.a99919aa-c9bd-11ed-8ceb-38f9d362366a.xml\n",
      "Image:/Users/olivia/Dropbox/Coding/Python/ML/cnn/asl-project/ASL_Detection/Tensorflow/workspace/images/collectedimages/Z/Z.7feb4880-c9bd-11ed-8ceb-38f9d362366a.jpg -> Annotation:/Users/olivia/Dropbox/Coding/Python/ML/cnn/asl-project/ASL_Detection/Tensorflow/workspace/images/collectedimages/Z/Z.7feb4880-c9bd-11ed-8ceb-38f9d362366a.xml\n",
      "Image:/Users/olivia/Dropbox/Coding/Python/ML/cnn/asl-project/ASL_Detection/Tensorflow/workspace/images/collectedimages/Z/Z.84d4ee0a-c9bd-11ed-8ceb-38f9d362366a.jpg -> Annotation:/Users/olivia/Dropbox/Coding/Python/ML/cnn/asl-project/ASL_Detection/Tensorflow/workspace/images/collectedimages/Z/Z.84d4ee0a-c9bd-11ed-8ceb-38f9d362366a.xml\n",
      "Image:/Users/olivia/Dropbox/Coding/Python/ML/cnn/asl-project/ASL_Detection/Tensorflow/workspace/images/collectedimages/Z/Z.89b82040-c9bd-11ed-8ceb-38f9d362366a.jpg -> Annotation:/Users/olivia/Dropbox/Coding/Python/ML/cnn/asl-project/ASL_Detection/Tensorflow/workspace/images/collectedimages/Z/Z.89b82040-c9bd-11ed-8ceb-38f9d362366a.xml\n",
      "Image:/Users/olivia/Dropbox/Coding/Python/ML/cnn/asl-project/ASL_Detection/Tensorflow/workspace/images/collectedimages/Z/Z.812a16d6-c9bd-11ed-8ceb-38f9d362366a.jpg -> Annotation:/Users/olivia/Dropbox/Coding/Python/ML/cnn/asl-project/ASL_Detection/Tensorflow/workspace/images/collectedimages/Z/Z.812a16d6-c9bd-11ed-8ceb-38f9d362366a.xml\n"
     ]
    },
    {
     "name": "stdout",
     "output_type": "stream",
     "text": [
      "Image:/Users/olivia/Dropbox/Coding/Python/ML/cnn/asl-project/ASL_Detection/Tensorflow/workspace/images/collectedimages/Z/Z.839d38da-c9bd-11ed-8ceb-38f9d362366a.jpg -> Annotation:/Users/olivia/Dropbox/Coding/Python/ML/cnn/asl-project/ASL_Detection/Tensorflow/workspace/images/collectedimages/Z/Z.839d38da-c9bd-11ed-8ceb-38f9d362366a.xml\n",
      "Image:/Users/olivia/Dropbox/Coding/Python/ML/cnn/asl-project/ASL_Detection/Tensorflow/workspace/images/collectedimages/Z/Z.860d18d8-c9bd-11ed-8ceb-38f9d362366a.jpg -> Annotation:/Users/olivia/Dropbox/Coding/Python/ML/cnn/asl-project/ASL_Detection/Tensorflow/workspace/images/collectedimages/Z/Z.860d18d8-c9bd-11ed-8ceb-38f9d362366a.xml\n",
      "Image:/Users/olivia/Dropbox/Coding/Python/ML/cnn/asl-project/ASL_Detection/Tensorflow/workspace/images/collectedimages/Z/Z.8264dc02-c9bd-11ed-8ceb-38f9d362366a.jpg -> Annotation:/Users/olivia/Dropbox/Coding/Python/ML/cnn/asl-project/ASL_Detection/Tensorflow/workspace/images/collectedimages/Z/Z.8264dc02-c9bd-11ed-8ceb-38f9d362366a.xml\n",
      "Image:/Users/olivia/Dropbox/Coding/Python/ML/cnn/asl-project/ASL_Detection/Tensorflow/workspace/images/collectedimages/Z/Z.88803d3e-c9bd-11ed-8ceb-38f9d362366a.jpg -> Annotation:/Users/olivia/Dropbox/Coding/Python/ML/cnn/asl-project/ASL_Detection/Tensorflow/workspace/images/collectedimages/Z/Z.88803d3e-c9bd-11ed-8ceb-38f9d362366a.xml\n",
      "Image:/Users/olivia/Dropbox/Coding/Python/ML/cnn/asl-project/ASL_Detection/Tensorflow/workspace/images/collectedimages/Z/Z.8748710c-c9bd-11ed-8ceb-38f9d362366a.jpg -> Annotation:/Users/olivia/Dropbox/Coding/Python/ML/cnn/asl-project/ASL_Detection/Tensorflow/workspace/images/collectedimages/Z/Z.8748710c-c9bd-11ed-8ceb-38f9d362366a.xml\n",
      "Image:/Users/olivia/Dropbox/Coding/Python/ML/cnn/asl-project/ASL_Detection/Tensorflow/workspace/images/collectedimages/Z/Z.8aef9470-c9bd-11ed-8ceb-38f9d362366a.jpg -> Annotation:/Users/olivia/Dropbox/Coding/Python/ML/cnn/asl-project/ASL_Detection/Tensorflow/workspace/images/collectedimages/Z/Z.8aef9470-c9bd-11ed-8ceb-38f9d362366a.xml\n",
      "Image:/Users/olivia/Dropbox/Coding/Python/ML/cnn/asl-project/ASL_Detection/Tensorflow/workspace/images/collectedimages/Y/Y.7a73ce9a-c9bd-11ed-8ceb-38f9d362366a.jpg -> Annotation:/Users/olivia/Dropbox/Coding/Python/ML/cnn/asl-project/ASL_Detection/Tensorflow/workspace/images/collectedimages/Y/Y.7a73ce9a-c9bd-11ed-8ceb-38f9d362366a.xml\n",
      "Image:/Users/olivia/Dropbox/Coding/Python/ML/cnn/asl-project/ASL_Detection/Tensorflow/workspace/images/collectedimages/Y/Y.7babd280-c9bd-11ed-8ceb-38f9d362366a.jpg -> Annotation:/Users/olivia/Dropbox/Coding/Python/ML/cnn/asl-project/ASL_Detection/Tensorflow/workspace/images/collectedimages/Y/Y.7babd280-c9bd-11ed-8ceb-38f9d362366a.xml\n",
      "Image:/Users/olivia/Dropbox/Coding/Python/ML/cnn/asl-project/ASL_Detection/Tensorflow/workspace/images/collectedimages/Y/Y.70b295c6-c9bd-11ed-8ceb-38f9d362366a.jpg -> Annotation:/Users/olivia/Dropbox/Coding/Python/ML/cnn/asl-project/ASL_Detection/Tensorflow/workspace/images/collectedimages/Y/Y.70b295c6-c9bd-11ed-8ceb-38f9d362366a.xml\n",
      "Image:/Users/olivia/Dropbox/Coding/Python/ML/cnn/asl-project/ASL_Detection/Tensorflow/workspace/images/collectedimages/Y/Y.71ea32a0-c9bd-11ed-8ceb-38f9d362366a.jpg -> Annotation:/Users/olivia/Dropbox/Coding/Python/ML/cnn/asl-project/ASL_Detection/Tensorflow/workspace/images/collectedimages/Y/Y.71ea32a0-c9bd-11ed-8ceb-38f9d362366a.xml\n",
      "Image:/Users/olivia/Dropbox/Coding/Python/ML/cnn/asl-project/ASL_Detection/Tensorflow/workspace/images/collectedimages/Y/Y.76c84c76-c9bd-11ed-8ceb-38f9d362366a.jpg -> Annotation:/Users/olivia/Dropbox/Coding/Python/ML/cnn/asl-project/ASL_Detection/Tensorflow/workspace/images/collectedimages/Y/Y.76c84c76-c9bd-11ed-8ceb-38f9d362366a.xml\n",
      "Image:/Users/olivia/Dropbox/Coding/Python/ML/cnn/asl-project/ASL_Detection/Tensorflow/workspace/images/collectedimages/Y/Y.77ff7f7e-c9bd-11ed-8ceb-38f9d362366a.jpg -> Annotation:/Users/olivia/Dropbox/Coding/Python/ML/cnn/asl-project/ASL_Detection/Tensorflow/workspace/images/collectedimages/Y/Y.77ff7f7e-c9bd-11ed-8ceb-38f9d362366a.xml\n",
      "Image:/Users/olivia/Dropbox/Coding/Python/ML/cnn/asl-project/ASL_Detection/Tensorflow/workspace/images/collectedimages/Y/Y.7937f1be-c9bd-11ed-8ceb-38f9d362366a.jpg -> Annotation:/Users/olivia/Dropbox/Coding/Python/ML/cnn/asl-project/ASL_Detection/Tensorflow/workspace/images/collectedimages/Y/Y.7937f1be-c9bd-11ed-8ceb-38f9d362366a.xml\n",
      "Image:/Users/olivia/Dropbox/Coding/Python/ML/cnn/asl-project/ASL_Detection/Tensorflow/workspace/images/collectedimages/Y/Y.759014c4-c9bd-11ed-8ceb-38f9d362366a.jpg -> Annotation:/Users/olivia/Dropbox/Coding/Python/ML/cnn/asl-project/ASL_Detection/Tensorflow/workspace/images/collectedimages/Y/Y.759014c4-c9bd-11ed-8ceb-38f9d362366a.xml\n",
      "Image:/Users/olivia/Dropbox/Coding/Python/ML/cnn/asl-project/ASL_Detection/Tensorflow/workspace/images/collectedimages/Y/Y.7459280c-c9bd-11ed-8ceb-38f9d362366a.jpg -> Annotation:/Users/olivia/Dropbox/Coding/Python/ML/cnn/asl-project/ASL_Detection/Tensorflow/workspace/images/collectedimages/Y/Y.7459280c-c9bd-11ed-8ceb-38f9d362366a.xml\n",
      "Image:/Users/olivia/Dropbox/Coding/Python/ML/cnn/asl-project/ASL_Detection/Tensorflow/workspace/images/collectedimages/Y/Y.73222920-c9bd-11ed-8ceb-38f9d362366a.jpg -> Annotation:/Users/olivia/Dropbox/Coding/Python/ML/cnn/asl-project/ASL_Detection/Tensorflow/workspace/images/collectedimages/Y/Y.73222920-c9bd-11ed-8ceb-38f9d362366a.xml\n",
      "Image:/Users/olivia/Dropbox/Coding/Python/ML/cnn/asl-project/ASL_Detection/Tensorflow/workspace/images/collectedimages/X/X.6b36efca-c9bd-11ed-8ceb-38f9d362366a.jpg -> Annotation:/Users/olivia/Dropbox/Coding/Python/ML/cnn/asl-project/ASL_Detection/Tensorflow/workspace/images/collectedimages/X/X.6b36efca-c9bd-11ed-8ceb-38f9d362366a.xml\n",
      "Cancel creation.\n",
      "Image:/Users/olivia/Dropbox/Coding/Python/ML/cnn/asl-project/ASL_Detection/Tensorflow/workspace/images/collectedimages/X/X.9ebd43aa-ca51-11ed-8ceb-38f9d362366a.jpg -> Annotation:/Users/olivia/Dropbox/Coding/Python/ML/cnn/asl-project/ASL_Detection/Tensorflow/workspace/images/collectedimages/X/X.9ebd43aa-ca51-11ed-8ceb-38f9d362366a.xml\n",
      "Image:/Users/olivia/Dropbox/Coding/Python/ML/cnn/asl-project/ASL_Detection/Tensorflow/workspace/images/collectedimages/X/X.62a617e6-c9bd-11ed-8ceb-38f9d362366a.jpg -> Annotation:/Users/olivia/Dropbox/Coding/Python/ML/cnn/asl-project/ASL_Detection/Tensorflow/workspace/images/collectedimages/X/X.62a617e6-c9bd-11ed-8ceb-38f9d362366a.xml\n",
      "Image:/Users/olivia/Dropbox/Coding/Python/ML/cnn/asl-project/ASL_Detection/Tensorflow/workspace/images/collectedimages/X/X.69fe74c0-c9bd-11ed-8ceb-38f9d362366a.jpg -> Annotation:/Users/olivia/Dropbox/Coding/Python/ML/cnn/asl-project/ASL_Detection/Tensorflow/workspace/images/collectedimages/X/X.69fe74c0-c9bd-11ed-8ceb-38f9d362366a.xml\n",
      "Image:/Users/olivia/Dropbox/Coding/Python/ML/cnn/asl-project/ASL_Detection/Tensorflow/workspace/images/collectedimages/X/X.616ef532-c9bd-11ed-8ceb-38f9d362366a.jpg -> Annotation:/Users/olivia/Dropbox/Coding/Python/ML/cnn/asl-project/ASL_Detection/Tensorflow/workspace/images/collectedimages/X/X.616ef532-c9bd-11ed-8ceb-38f9d362366a.xml\n",
      "Image:/Users/olivia/Dropbox/Coding/Python/ML/cnn/asl-project/ASL_Detection/Tensorflow/workspace/images/collectedimages/X/X.6514c658-c9bd-11ed-8ceb-38f9d362366a.jpg -> Annotation:/Users/olivia/Dropbox/Coding/Python/ML/cnn/asl-project/ASL_Detection/Tensorflow/workspace/images/collectedimages/X/X.6514c658-c9bd-11ed-8ceb-38f9d362366a.xml\n",
      "Image:/Users/olivia/Dropbox/Coding/Python/ML/cnn/asl-project/ASL_Detection/Tensorflow/workspace/images/collectedimages/X/X.a3a5b186-ca51-11ed-8ceb-38f9d362366a.jpg -> Annotation:/Users/olivia/Dropbox/Coding/Python/ML/cnn/asl-project/ASL_Detection/Tensorflow/workspace/images/collectedimages/X/X.a3a5b186-ca51-11ed-8ceb-38f9d362366a.xml\n",
      "Image:/Users/olivia/Dropbox/Coding/Python/ML/cnn/asl-project/ASL_Detection/Tensorflow/workspace/images/collectedimages/X/X.a4e3f72e-ca51-11ed-8ceb-38f9d362366a.jpg -> Annotation:/Users/olivia/Dropbox/Coding/Python/ML/cnn/asl-project/ASL_Detection/Tensorflow/workspace/images/collectedimages/X/X.a4e3f72e-ca51-11ed-8ceb-38f9d362366a.xml\n",
      "Image:/Users/olivia/Dropbox/Coding/Python/ML/cnn/asl-project/ASL_Detection/Tensorflow/workspace/images/collectedimages/X/X.a12fd12a-ca51-11ed-8ceb-38f9d362366a.jpg -> Annotation:/Users/olivia/Dropbox/Coding/Python/ML/cnn/asl-project/ASL_Detection/Tensorflow/workspace/images/collectedimages/X/X.a12fd12a-ca51-11ed-8ceb-38f9d362366a.xml\n"
     ]
    },
    {
     "name": "stdout",
     "output_type": "stream",
     "text": [
      "Image:/Users/olivia/Dropbox/Coding/Python/ML/cnn/asl-project/ASL_Detection/Tensorflow/workspace/images/collectedimages/X/X.a26a840e-ca51-11ed-8ceb-38f9d362366a.jpg -> Annotation:/Users/olivia/Dropbox/Coding/Python/ML/cnn/asl-project/ASL_Detection/Tensorflow/workspace/images/collectedimages/X/X.a26a840e-ca51-11ed-8ceb-38f9d362366a.xml\n",
      "Image:/Users/olivia/Dropbox/Coding/Python/ML/cnn/asl-project/ASL_Detection/Tensorflow/workspace/images/collectedimages/W/W.5abb055a-c9bd-11ed-8ceb-38f9d362366a.jpg -> Annotation:/Users/olivia/Dropbox/Coding/Python/ML/cnn/asl-project/ASL_Detection/Tensorflow/workspace/images/collectedimages/W/W.5abb055a-c9bd-11ed-8ceb-38f9d362366a.xml\n",
      "ESC press\n",
      "Cancel creation.\n",
      "Image:/Users/olivia/Dropbox/Coding/Python/ML/cnn/asl-project/ASL_Detection/Tensorflow/workspace/images/collectedimages/W/W.5bf82fb0-c9bd-11ed-8ceb-38f9d362366a.jpg -> Annotation:/Users/olivia/Dropbox/Coding/Python/ML/cnn/asl-project/ASL_Detection/Tensorflow/workspace/images/collectedimages/W/W.5bf82fb0-c9bd-11ed-8ceb-38f9d362366a.xml\n",
      "Image:/Users/olivia/Dropbox/Coding/Python/ML/cnn/asl-project/ASL_Detection/Tensorflow/workspace/images/collectedimages/W/W.5d2f87f2-c9bd-11ed-8ceb-38f9d362366a.jpg -> Annotation:/Users/olivia/Dropbox/Coding/Python/ML/cnn/asl-project/ASL_Detection/Tensorflow/workspace/images/collectedimages/W/W.5d2f87f2-c9bd-11ed-8ceb-38f9d362366a.xml\n",
      "Image:/Users/olivia/Dropbox/Coding/Python/ML/cnn/asl-project/ASL_Detection/Tensorflow/workspace/images/collectedimages/W/W.55d74832-c9bd-11ed-8ceb-38f9d362366a.jpg -> Annotation:/Users/olivia/Dropbox/Coding/Python/ML/cnn/asl-project/ASL_Detection/Tensorflow/workspace/images/collectedimages/W/W.55d74832-c9bd-11ed-8ceb-38f9d362366a.xml\n",
      "ESC press\n",
      "Cancel creation.\n",
      "Image:/Users/olivia/Dropbox/Coding/Python/ML/cnn/asl-project/ASL_Detection/Tensorflow/workspace/images/collectedimages/W/W.522cc522-c9bd-11ed-8ceb-38f9d362366a.jpg -> Annotation:/Users/olivia/Dropbox/Coding/Python/ML/cnn/asl-project/ASL_Detection/Tensorflow/workspace/images/collectedimages/W/W.522cc522-c9bd-11ed-8ceb-38f9d362366a.xml\n",
      "Image:/Users/olivia/Dropbox/Coding/Python/ML/cnn/asl-project/ASL_Detection/Tensorflow/workspace/images/collectedimages/W/W.549f7be2-c9bd-11ed-8ceb-38f9d362366a.jpg -> Annotation:/Users/olivia/Dropbox/Coding/Python/ML/cnn/asl-project/ASL_Detection/Tensorflow/workspace/images/collectedimages/W/W.549f7be2-c9bd-11ed-8ceb-38f9d362366a.xml\n",
      "Image:/Users/olivia/Dropbox/Coding/Python/ML/cnn/asl-project/ASL_Detection/Tensorflow/workspace/images/collectedimages/W/W.570e8c6a-c9bd-11ed-8ceb-38f9d362366a.jpg -> Annotation:/Users/olivia/Dropbox/Coding/Python/ML/cnn/asl-project/ASL_Detection/Tensorflow/workspace/images/collectedimages/W/W.570e8c6a-c9bd-11ed-8ceb-38f9d362366a.xml\n",
      "Image:/Users/olivia/Dropbox/Coding/Python/ML/cnn/asl-project/ASL_Detection/Tensorflow/workspace/images/collectedimages/W/W.5363fb2c-c9bd-11ed-8ceb-38f9d362366a.jpg -> Annotation:/Users/olivia/Dropbox/Coding/Python/ML/cnn/asl-project/ASL_Detection/Tensorflow/workspace/images/collectedimages/W/W.5363fb2c-c9bd-11ed-8ceb-38f9d362366a.xml\n",
      "Image:/Users/olivia/Dropbox/Coding/Python/ML/cnn/asl-project/ASL_Detection/Tensorflow/workspace/images/collectedimages/W/W.5983f2be-c9bd-11ed-8ceb-38f9d362366a.jpg -> Annotation:/Users/olivia/Dropbox/Coding/Python/ML/cnn/asl-project/ASL_Detection/Tensorflow/workspace/images/collectedimages/W/W.5983f2be-c9bd-11ed-8ceb-38f9d362366a.xml\n",
      "Image:/Users/olivia/Dropbox/Coding/Python/ML/cnn/asl-project/ASL_Detection/Tensorflow/workspace/images/collectedimages/W/W.58497540-c9bd-11ed-8ceb-38f9d362366a.jpg -> Annotation:/Users/olivia/Dropbox/Coding/Python/ML/cnn/asl-project/ASL_Detection/Tensorflow/workspace/images/collectedimages/W/W.58497540-c9bd-11ed-8ceb-38f9d362366a.xml\n",
      "Image:/Users/olivia/Dropbox/Coding/Python/ML/cnn/asl-project/ASL_Detection/Tensorflow/workspace/images/collectedimages/V/V.4a3f8cc8-c9bd-11ed-8ceb-38f9d362366a.jpg -> Annotation:/Users/olivia/Dropbox/Coding/Python/ML/cnn/asl-project/ASL_Detection/Tensorflow/workspace/images/collectedimages/V/V.4a3f8cc8-c9bd-11ed-8ceb-38f9d362366a.xml\n",
      "Image:/Users/olivia/Dropbox/Coding/Python/ML/cnn/asl-project/ASL_Detection/Tensorflow/workspace/images/collectedimages/V/V.4b78325c-c9bd-11ed-8ceb-38f9d362366a.jpg -> Annotation:/Users/olivia/Dropbox/Coding/Python/ML/cnn/asl-project/ASL_Detection/Tensorflow/workspace/images/collectedimages/V/V.4b78325c-c9bd-11ed-8ceb-38f9d362366a.xml\n",
      "Image:/Users/olivia/Dropbox/Coding/Python/ML/cnn/asl-project/ASL_Detection/Tensorflow/workspace/images/collectedimages/V/V.4cb11e86-c9bd-11ed-8ceb-38f9d362366a.jpg -> Annotation:/Users/olivia/Dropbox/Coding/Python/ML/cnn/asl-project/ASL_Detection/Tensorflow/workspace/images/collectedimages/V/V.4cb11e86-c9bd-11ed-8ceb-38f9d362366a.xml\n",
      "Image:/Users/olivia/Dropbox/Coding/Python/ML/cnn/asl-project/ASL_Detection/Tensorflow/workspace/images/collectedimages/V/V.4deb89c6-c9bd-11ed-8ceb-38f9d362366a.jpg -> Annotation:/Users/olivia/Dropbox/Coding/Python/ML/cnn/asl-project/ASL_Detection/Tensorflow/workspace/images/collectedimages/V/V.4deb89c6-c9bd-11ed-8ceb-38f9d362366a.xml\n",
      "Image:/Users/olivia/Dropbox/Coding/Python/ML/cnn/asl-project/ASL_Detection/Tensorflow/workspace/images/collectedimages/V/V.42e7143c-c9bd-11ed-8ceb-38f9d362366a.jpg -> Annotation:/Users/olivia/Dropbox/Coding/Python/ML/cnn/asl-project/ASL_Detection/Tensorflow/workspace/images/collectedimages/V/V.42e7143c-c9bd-11ed-8ceb-38f9d362366a.xml\n",
      "Image:/Users/olivia/Dropbox/Coding/Python/ML/cnn/asl-project/ASL_Detection/Tensorflow/workspace/images/collectedimages/V/V.47cb68ea-c9bd-11ed-8ceb-38f9d362366a.jpg -> Annotation:/Users/olivia/Dropbox/Coding/Python/ML/cnn/asl-project/ASL_Detection/Tensorflow/workspace/images/collectedimages/V/V.47cb68ea-c9bd-11ed-8ceb-38f9d362366a.xml\n",
      "Image:/Users/olivia/Dropbox/Coding/Python/ML/cnn/asl-project/ASL_Detection/Tensorflow/workspace/images/collectedimages/V/V.455cfeb6-c9bd-11ed-8ceb-38f9d362366a.jpg -> Annotation:/Users/olivia/Dropbox/Coding/Python/ML/cnn/asl-project/ASL_Detection/Tensorflow/workspace/images/collectedimages/V/V.455cfeb6-c9bd-11ed-8ceb-38f9d362366a.xml\n",
      "Image:/Users/olivia/Dropbox/Coding/Python/ML/cnn/asl-project/ASL_Detection/Tensorflow/workspace/images/collectedimages/V/V.4424d1cc-c9bd-11ed-8ceb-38f9d362366a.jpg -> Annotation:/Users/olivia/Dropbox/Coding/Python/ML/cnn/asl-project/ASL_Detection/Tensorflow/workspace/images/collectedimages/V/V.4424d1cc-c9bd-11ed-8ceb-38f9d362366a.xml\n",
      "Image:/Users/olivia/Dropbox/Coding/Python/ML/cnn/asl-project/ASL_Detection/Tensorflow/workspace/images/collectedimages/V/V.4902b56a-c9bd-11ed-8ceb-38f9d362366a.jpg -> Annotation:/Users/olivia/Dropbox/Coding/Python/ML/cnn/asl-project/ASL_Detection/Tensorflow/workspace/images/collectedimages/V/V.4902b56a-c9bd-11ed-8ceb-38f9d362366a.xml\n",
      "Image:/Users/olivia/Dropbox/Coding/Python/ML/cnn/asl-project/ASL_Detection/Tensorflow/workspace/images/collectedimages/V/V.4694298a-c9bd-11ed-8ceb-38f9d362366a.jpg -> Annotation:/Users/olivia/Dropbox/Coding/Python/ML/cnn/asl-project/ASL_Detection/Tensorflow/workspace/images/collectedimages/V/V.4694298a-c9bd-11ed-8ceb-38f9d362366a.xml\n",
      "Image:/Users/olivia/Dropbox/Coding/Python/ML/cnn/asl-project/ASL_Detection/Tensorflow/workspace/images/collectedimages/U/U.3b01800e-c9bd-11ed-8ceb-38f9d362366a.jpg -> Annotation:/Users/olivia/Dropbox/Coding/Python/ML/cnn/asl-project/ASL_Detection/Tensorflow/workspace/images/collectedimages/U/U.3b01800e-c9bd-11ed-8ceb-38f9d362366a.xml\n",
      "Image:/Users/olivia/Dropbox/Coding/Python/ML/cnn/asl-project/ASL_Detection/Tensorflow/workspace/images/collectedimages/U/U.3c39751c-c9bd-11ed-8ceb-38f9d362366a.jpg -> Annotation:/Users/olivia/Dropbox/Coding/Python/ML/cnn/asl-project/ASL_Detection/Tensorflow/workspace/images/collectedimages/U/U.3c39751c-c9bd-11ed-8ceb-38f9d362366a.xml\n",
      "Image:/Users/olivia/Dropbox/Coding/Python/ML/cnn/asl-project/ASL_Detection/Tensorflow/workspace/images/collectedimages/U/U.3d7100bc-c9bd-11ed-8ceb-38f9d362366a.jpg -> Annotation:/Users/olivia/Dropbox/Coding/Python/ML/cnn/asl-project/ASL_Detection/Tensorflow/workspace/images/collectedimages/U/U.3d7100bc-c9bd-11ed-8ceb-38f9d362366a.xml\n",
      "Image:/Users/olivia/Dropbox/Coding/Python/ML/cnn/asl-project/ASL_Detection/Tensorflow/workspace/images/collectedimages/U/U.3ea94c8c-c9bd-11ed-8ceb-38f9d362366a.jpg -> Annotation:/Users/olivia/Dropbox/Coding/Python/ML/cnn/asl-project/ASL_Detection/Tensorflow/workspace/images/collectedimages/U/U.3ea94c8c-c9bd-11ed-8ceb-38f9d362366a.xml\n"
     ]
    },
    {
     "name": "stdout",
     "output_type": "stream",
     "text": [
      "Image:/Users/olivia/Dropbox/Coding/Python/ML/cnn/asl-project/ASL_Detection/Tensorflow/workspace/images/collectedimages/U/U.9a7ddbce-ca51-11ed-8ceb-38f9d362366a.jpg -> Annotation:/Users/olivia/Dropbox/Coding/Python/ML/cnn/asl-project/ASL_Detection/Tensorflow/workspace/images/collectedimages/U/U.9a7ddbce-ca51-11ed-8ceb-38f9d362366a.xml\n",
      "Image:/Users/olivia/Dropbox/Coding/Python/ML/cnn/asl-project/ASL_Detection/Tensorflow/workspace/images/collectedimages/U/U.34e154d8-c9bd-11ed-8ceb-38f9d362366a.jpg -> Annotation:/Users/olivia/Dropbox/Coding/Python/ML/cnn/asl-project/ASL_Detection/Tensorflow/workspace/images/collectedimages/U/U.34e154d8-c9bd-11ed-8ceb-38f9d362366a.xml\n",
      "Image:/Users/olivia/Dropbox/Coding/Python/ML/cnn/asl-project/ASL_Detection/Tensorflow/workspace/images/collectedimages/U/U.39c534ec-c9bd-11ed-8ceb-38f9d362366a.jpg -> Annotation:/Users/olivia/Dropbox/Coding/Python/ML/cnn/asl-project/ASL_Detection/Tensorflow/workspace/images/collectedimages/U/U.39c534ec-c9bd-11ed-8ceb-38f9d362366a.xml\n",
      "Image:/Users/olivia/Dropbox/Coding/Python/ML/cnn/asl-project/ASL_Detection/Tensorflow/workspace/images/collectedimages/U/U.388d308e-c9bd-11ed-8ceb-38f9d362366a.jpg -> Annotation:/Users/olivia/Dropbox/Coding/Python/ML/cnn/asl-project/ASL_Detection/Tensorflow/workspace/images/collectedimages/U/U.388d308e-c9bd-11ed-8ceb-38f9d362366a.xml\n",
      "Image:/Users/olivia/Dropbox/Coding/Python/ML/cnn/asl-project/ASL_Detection/Tensorflow/workspace/images/collectedimages/U/U.3754ed2e-c9bd-11ed-8ceb-38f9d362366a.jpg -> Annotation:/Users/olivia/Dropbox/Coding/Python/ML/cnn/asl-project/ASL_Detection/Tensorflow/workspace/images/collectedimages/U/U.3754ed2e-c9bd-11ed-8ceb-38f9d362366a.xml\n",
      "Image:/Users/olivia/Dropbox/Coding/Python/ML/cnn/asl-project/ASL_Detection/Tensorflow/workspace/images/collectedimages/U/U.3754ed2e-c9bd-11ed-8ceb-38f9d362366a.jpg -> Annotation:/Users/olivia/Dropbox/Coding/Python/ML/cnn/asl-project/ASL_Detection/Tensorflow/workspace/images/collectedimages/U/U.3754ed2e-c9bd-11ed-8ceb-38f9d362366a.xml\n",
      "Image:/Users/olivia/Dropbox/Coding/Python/ML/cnn/asl-project/ASL_Detection/Tensorflow/workspace/images/collectedimages/U/U.93288216-ca51-11ed-8ceb-38f9d362366a.jpg -> Annotation:/Users/olivia/Dropbox/Coding/Python/ML/cnn/asl-project/ASL_Detection/Tensorflow/workspace/images/collectedimages/U/U.93288216-ca51-11ed-8ceb-38f9d362366a.xml\n",
      "Image:/Users/olivia/Dropbox/Coding/Python/ML/cnn/asl-project/ASL_Detection/Tensorflow/workspace/images/collectedimages/T/T.2a875514-c9bd-11ed-8ceb-38f9d362366a.jpg -> Annotation:/Users/olivia/Dropbox/Coding/Python/ML/cnn/asl-project/ASL_Detection/Tensorflow/workspace/images/collectedimages/T/T.2a875514-c9bd-11ed-8ceb-38f9d362366a.xml\n",
      "Image:/Users/olivia/Dropbox/Coding/Python/ML/cnn/asl-project/ASL_Detection/Tensorflow/workspace/images/collectedimages/T/T.2bbe910e-c9bd-11ed-8ceb-38f9d362366a.jpg -> Annotation:/Users/olivia/Dropbox/Coding/Python/ML/cnn/asl-project/ASL_Detection/Tensorflow/workspace/images/collectedimages/T/T.2bbe910e-c9bd-11ed-8ceb-38f9d362366a.xml\n",
      "Image:/Users/olivia/Dropbox/Coding/Python/ML/cnn/asl-project/ASL_Detection/Tensorflow/workspace/images/collectedimages/T/T.2cf5e75c-c9bd-11ed-8ceb-38f9d362366a.jpg -> Annotation:/Users/olivia/Dropbox/Coding/Python/ML/cnn/asl-project/ASL_Detection/Tensorflow/workspace/images/collectedimages/T/T.2cf5e75c-c9bd-11ed-8ceb-38f9d362366a.xml\n",
      "Image:/Users/olivia/Dropbox/Coding/Python/ML/cnn/asl-project/ASL_Detection/Tensorflow/workspace/images/collectedimages/T/T.2e2d7bee-c9bd-11ed-8ceb-38f9d362366a.jpg -> Annotation:/Users/olivia/Dropbox/Coding/Python/ML/cnn/asl-project/ASL_Detection/Tensorflow/workspace/images/collectedimages/T/T.2e2d7bee-c9bd-11ed-8ceb-38f9d362366a.xml\n",
      "Image:/Users/olivia/Dropbox/Coding/Python/ML/cnn/asl-project/ASL_Detection/Tensorflow/workspace/images/collectedimages/T/T.2f63df76-c9bd-11ed-8ceb-38f9d362366a.jpg -> Annotation:/Users/olivia/Dropbox/Coding/Python/ML/cnn/asl-project/ASL_Detection/Tensorflow/workspace/images/collectedimages/T/T.2f63df76-c9bd-11ed-8ceb-38f9d362366a.xml\n",
      "Image:/Users/olivia/Dropbox/Coding/Python/ML/cnn/asl-project/ASL_Detection/Tensorflow/workspace/images/collectedimages/T/T.26d5e62e-c9bd-11ed-8ceb-38f9d362366a.jpg -> Annotation:/Users/olivia/Dropbox/Coding/Python/ML/cnn/asl-project/ASL_Detection/Tensorflow/workspace/images/collectedimages/T/T.26d5e62e-c9bd-11ed-8ceb-38f9d362366a.xml\n",
      "Image:/Users/olivia/Dropbox/Coding/Python/ML/cnn/asl-project/ASL_Detection/Tensorflow/workspace/images/collectedimages/T/T.259dd852-c9bd-11ed-8ceb-38f9d362366a.jpg -> Annotation:/Users/olivia/Dropbox/Coding/Python/ML/cnn/asl-project/ASL_Detection/Tensorflow/workspace/images/collectedimages/T/T.259dd852-c9bd-11ed-8ceb-38f9d362366a.xml\n",
      "Image:/Users/olivia/Dropbox/Coding/Python/ML/cnn/asl-project/ASL_Detection/Tensorflow/workspace/images/collectedimages/T/T.280daa18-c9bd-11ed-8ceb-38f9d362366a.jpg -> Annotation:/Users/olivia/Dropbox/Coding/Python/ML/cnn/asl-project/ASL_Detection/Tensorflow/workspace/images/collectedimages/T/T.280daa18-c9bd-11ed-8ceb-38f9d362366a.xml\n",
      "Image:/Users/olivia/Dropbox/Coding/Python/ML/cnn/asl-project/ASL_Detection/Tensorflow/workspace/images/collectedimages/T/T.294adb58-c9bd-11ed-8ceb-38f9d362366a.jpg -> Annotation:/Users/olivia/Dropbox/Coding/Python/ML/cnn/asl-project/ASL_Detection/Tensorflow/workspace/images/collectedimages/T/T.294adb58-c9bd-11ed-8ceb-38f9d362366a.xml\n",
      "Image:/Users/olivia/Dropbox/Coding/Python/ML/cnn/asl-project/ASL_Detection/Tensorflow/workspace/images/collectedimages/T/T.246577d8-c9bd-11ed-8ceb-38f9d362366a.jpg -> Annotation:/Users/olivia/Dropbox/Coding/Python/ML/cnn/asl-project/ASL_Detection/Tensorflow/workspace/images/collectedimages/T/T.246577d8-c9bd-11ed-8ceb-38f9d362366a.xml\n",
      "Image:/Users/olivia/Dropbox/Coding/Python/ML/cnn/asl-project/ASL_Detection/Tensorflow/workspace/images/collectedimages/S/S.1b37325a-c9bd-11ed-8ceb-38f9d362366a.jpg -> Annotation:/Users/olivia/Dropbox/Coding/Python/ML/cnn/asl-project/ASL_Detection/Tensorflow/workspace/images/collectedimages/S/S.1b37325a-c9bd-11ed-8ceb-38f9d362366a.xml\n",
      "Image:/Users/olivia/Dropbox/Coding/Python/ML/cnn/asl-project/ASL_Detection/Tensorflow/workspace/images/collectedimages/S/S.1c74f5d0-c9bd-11ed-8ceb-38f9d362366a.jpg -> Annotation:/Users/olivia/Dropbox/Coding/Python/ML/cnn/asl-project/ASL_Detection/Tensorflow/workspace/images/collectedimages/S/S.1c74f5d0-c9bd-11ed-8ceb-38f9d362366a.xml\n",
      "Image:/Users/olivia/Dropbox/Coding/Python/ML/cnn/asl-project/ASL_Detection/Tensorflow/workspace/images/collectedimages/S/S.1db17cca-c9bd-11ed-8ceb-38f9d362366a.jpg -> Annotation:/Users/olivia/Dropbox/Coding/Python/ML/cnn/asl-project/ASL_Detection/Tensorflow/workspace/images/collectedimages/S/S.1db17cca-c9bd-11ed-8ceb-38f9d362366a.xml\n",
      "Image:/Users/olivia/Dropbox/Coding/Python/ML/cnn/asl-project/ASL_Detection/Tensorflow/workspace/images/collectedimages/S/S.1ee86996-c9bd-11ed-8ceb-38f9d362366a.jpg -> Annotation:/Users/olivia/Dropbox/Coding/Python/ML/cnn/asl-project/ASL_Detection/Tensorflow/workspace/images/collectedimages/S/S.1ee86996-c9bd-11ed-8ceb-38f9d362366a.xml\n",
      "Image:/Users/olivia/Dropbox/Coding/Python/ML/cnn/asl-project/ASL_Detection/Tensorflow/workspace/images/collectedimages/S/S.18c78a9c-c9bd-11ed-8ceb-38f9d362366a.jpg -> Annotation:/Users/olivia/Dropbox/Coding/Python/ML/cnn/asl-project/ASL_Detection/Tensorflow/workspace/images/collectedimages/S/S.18c78a9c-c9bd-11ed-8ceb-38f9d362366a.xml\n",
      "Image:/Users/olivia/Dropbox/Coding/Python/ML/cnn/asl-project/ASL_Detection/Tensorflow/workspace/images/collectedimages/S/S.19fe8bae-c9bd-11ed-8ceb-38f9d362366a.jpg -> Annotation:/Users/olivia/Dropbox/Coding/Python/ML/cnn/asl-project/ASL_Detection/Tensorflow/workspace/images/collectedimages/S/S.19fe8bae-c9bd-11ed-8ceb-38f9d362366a.xml\n",
      "Image:/Users/olivia/Dropbox/Coding/Python/ML/cnn/asl-project/ASL_Detection/Tensorflow/workspace/images/collectedimages/S/S.151a4330-c9bd-11ed-8ceb-38f9d362366a.jpg -> Annotation:/Users/olivia/Dropbox/Coding/Python/ML/cnn/asl-project/ASL_Detection/Tensorflow/workspace/images/collectedimages/S/S.151a4330-c9bd-11ed-8ceb-38f9d362366a.xml\n",
      "Image:/Users/olivia/Dropbox/Coding/Python/ML/cnn/asl-project/ASL_Detection/Tensorflow/workspace/images/collectedimages/S/S.178caeaa-c9bd-11ed-8ceb-38f9d362366a.jpg -> Annotation:/Users/olivia/Dropbox/Coding/Python/ML/cnn/asl-project/ASL_Detection/Tensorflow/workspace/images/collectedimages/S/S.178caeaa-c9bd-11ed-8ceb-38f9d362366a.xml\n"
     ]
    },
    {
     "name": "stdout",
     "output_type": "stream",
     "text": [
      "Image:/Users/olivia/Dropbox/Coding/Python/ML/cnn/asl-project/ASL_Detection/Tensorflow/workspace/images/collectedimages/S/S.1651bda0-c9bd-11ed-8ceb-38f9d362366a.jpg -> Annotation:/Users/olivia/Dropbox/Coding/Python/ML/cnn/asl-project/ASL_Detection/Tensorflow/workspace/images/collectedimages/S/S.1651bda0-c9bd-11ed-8ceb-38f9d362366a.xml\n",
      "Image:/Users/olivia/Dropbox/Coding/Python/ML/cnn/asl-project/ASL_Detection/Tensorflow/workspace/images/collectedimages/S/S.20214152-c9bd-11ed-8ceb-38f9d362366a.jpg -> Annotation:/Users/olivia/Dropbox/Coding/Python/ML/cnn/asl-project/ASL_Detection/Tensorflow/workspace/images/collectedimages/S/S.20214152-c9bd-11ed-8ceb-38f9d362366a.xml\n",
      "Image:/Users/olivia/Dropbox/Coding/Python/ML/cnn/asl-project/ASL_Detection/Tensorflow/workspace/images/collectedimages/R/R.0abb1a90-c9bd-11ed-8ceb-38f9d362366a.jpg -> Annotation:/Users/olivia/Dropbox/Coding/Python/ML/cnn/asl-project/ASL_Detection/Tensorflow/workspace/images/collectedimages/R/R.0abb1a90-c9bd-11ed-8ceb-38f9d362366a.xml\n",
      "Image:/Users/olivia/Dropbox/Coding/Python/ML/cnn/asl-project/ASL_Detection/Tensorflow/workspace/images/collectedimages/R/R.0bf7f2ca-c9bd-11ed-8ceb-38f9d362366a.jpg -> Annotation:/Users/olivia/Dropbox/Coding/Python/ML/cnn/asl-project/ASL_Detection/Tensorflow/workspace/images/collectedimages/R/R.0bf7f2ca-c9bd-11ed-8ceb-38f9d362366a.xml\n",
      "Image:/Users/olivia/Dropbox/Coding/Python/ML/cnn/asl-project/ASL_Detection/Tensorflow/workspace/images/collectedimages/R/R.0d2fbea2-c9bd-11ed-8ceb-38f9d362366a.jpg -> Annotation:/Users/olivia/Dropbox/Coding/Python/ML/cnn/asl-project/ASL_Detection/Tensorflow/workspace/images/collectedimages/R/R.0d2fbea2-c9bd-11ed-8ceb-38f9d362366a.xml\n",
      "Image:/Users/olivia/Dropbox/Coding/Python/ML/cnn/asl-project/ASL_Detection/Tensorflow/workspace/images/collectedimages/R/R.0e67b0b8-c9bd-11ed-8ceb-38f9d362366a.jpg -> Annotation:/Users/olivia/Dropbox/Coding/Python/ML/cnn/asl-project/ASL_Detection/Tensorflow/workspace/images/collectedimages/R/R.0e67b0b8-c9bd-11ed-8ceb-38f9d362366a.xml\n",
      "Image:/Users/olivia/Dropbox/Coding/Python/ML/cnn/asl-project/ASL_Detection/Tensorflow/workspace/images/collectedimages/R/R.0fa5620e-c9bd-11ed-8ceb-38f9d362366a.jpg -> Annotation:/Users/olivia/Dropbox/Coding/Python/ML/cnn/asl-project/ASL_Detection/Tensorflow/workspace/images/collectedimages/R/R.0fa5620e-c9bd-11ed-8ceb-38f9d362366a.xml\n",
      "Image:/Users/olivia/Dropbox/Coding/Python/ML/cnn/asl-project/ASL_Detection/Tensorflow/workspace/images/collectedimages/R/R.05d80f60-c9bd-11ed-8ceb-38f9d362366a.jpg -> Annotation:/Users/olivia/Dropbox/Coding/Python/ML/cnn/asl-project/ASL_Detection/Tensorflow/workspace/images/collectedimages/R/R.05d80f60-c9bd-11ed-8ceb-38f9d362366a.xml\n",
      "Image:/Users/olivia/Dropbox/Coding/Python/ML/cnn/asl-project/ASL_Detection/Tensorflow/workspace/images/collectedimages/R/R.10dd46c8-c9bd-11ed-8ceb-38f9d362366a.jpg -> Annotation:/Users/olivia/Dropbox/Coding/Python/ML/cnn/asl-project/ASL_Detection/Tensorflow/workspace/images/collectedimages/R/R.10dd46c8-c9bd-11ed-8ceb-38f9d362366a.xml\n",
      "Image:/Users/olivia/Dropbox/Coding/Python/ML/cnn/asl-project/ASL_Detection/Tensorflow/workspace/images/collectedimages/R/R.084c3c9e-c9bd-11ed-8ceb-38f9d362366a.jpg -> Annotation:/Users/olivia/Dropbox/Coding/Python/ML/cnn/asl-project/ASL_Detection/Tensorflow/workspace/images/collectedimages/R/R.084c3c9e-c9bd-11ed-8ceb-38f9d362366a.xml\n",
      "Image:/Users/olivia/Dropbox/Coding/Python/ML/cnn/asl-project/ASL_Detection/Tensorflow/workspace/images/collectedimages/R/R.0714c832-c9bd-11ed-8ceb-38f9d362366a.jpg -> Annotation:/Users/olivia/Dropbox/Coding/Python/ML/cnn/asl-project/ASL_Detection/Tensorflow/workspace/images/collectedimages/R/R.0714c832-c9bd-11ed-8ceb-38f9d362366a.xml\n",
      "Image:/Users/olivia/Dropbox/Coding/Python/ML/cnn/asl-project/ASL_Detection/Tensorflow/workspace/images/collectedimages/R/R.0982b8ea-c9bd-11ed-8ceb-38f9d362366a.jpg -> Annotation:/Users/olivia/Dropbox/Coding/Python/ML/cnn/asl-project/ASL_Detection/Tensorflow/workspace/images/collectedimages/R/R.0982b8ea-c9bd-11ed-8ceb-38f9d362366a.xml\n",
      "Image:/Users/olivia/Dropbox/Coding/Python/ML/cnn/asl-project/ASL_Detection/Tensorflow/workspace/images/collectedimages/Q/Q.005bed40-c9bd-11ed-8ceb-38f9d362366a.jpg -> Annotation:/Users/olivia/Dropbox/Coding/Python/ML/cnn/asl-project/ASL_Detection/Tensorflow/workspace/images/collectedimages/Q/Q.005bed40-c9bd-11ed-8ceb-38f9d362366a.xml\n",
      "Image:/Users/olivia/Dropbox/Coding/Python/ML/cnn/asl-project/ASL_Detection/Tensorflow/workspace/images/collectedimages/Q/Q.0192b4c8-c9bd-11ed-8ceb-38f9d362366a.jpg -> Annotation:/Users/olivia/Dropbox/Coding/Python/ML/cnn/asl-project/ASL_Detection/Tensorflow/workspace/images/collectedimages/Q/Q.0192b4c8-c9bd-11ed-8ceb-38f9d362366a.xml\n",
      "Image:/Users/olivia/Dropbox/Coding/Python/ML/cnn/asl-project/ASL_Detection/Tensorflow/workspace/images/collectedimages/Q/Q.f7c48408-c9bc-11ed-8ceb-38f9d362366a.jpg -> Annotation:/Users/olivia/Dropbox/Coding/Python/ML/cnn/asl-project/ASL_Detection/Tensorflow/workspace/images/collectedimages/Q/Q.f7c48408-c9bc-11ed-8ceb-38f9d362366a.xml\n",
      "Image:/Users/olivia/Dropbox/Coding/Python/ML/cnn/asl-project/ASL_Detection/Tensorflow/workspace/images/collectedimages/Q/Q.f68b1a7a-c9bc-11ed-8ceb-38f9d362366a.jpg -> Annotation:/Users/olivia/Dropbox/Coding/Python/ML/cnn/asl-project/ASL_Detection/Tensorflow/workspace/images/collectedimages/Q/Q.f68b1a7a-c9bc-11ed-8ceb-38f9d362366a.xml\n",
      "Image:/Users/olivia/Dropbox/Coding/Python/ML/cnn/asl-project/ASL_Detection/Tensorflow/workspace/images/collectedimages/Q/Q.f901c68c-c9bc-11ed-8ceb-38f9d362366a.jpg -> Annotation:/Users/olivia/Dropbox/Coding/Python/ML/cnn/asl-project/ASL_Detection/Tensorflow/workspace/images/collectedimages/Q/Q.f901c68c-c9bc-11ed-8ceb-38f9d362366a.xml\n",
      "Image:/Users/olivia/Dropbox/Coding/Python/ML/cnn/asl-project/ASL_Detection/Tensorflow/workspace/images/collectedimages/Q/Q.fa393490-c9bc-11ed-8ceb-38f9d362366a.jpg -> Annotation:/Users/olivia/Dropbox/Coding/Python/ML/cnn/asl-project/ASL_Detection/Tensorflow/workspace/images/collectedimages/Q/Q.fa393490-c9bc-11ed-8ceb-38f9d362366a.xml\n",
      "Image:/Users/olivia/Dropbox/Coding/Python/ML/cnn/asl-project/ASL_Detection/Tensorflow/workspace/images/collectedimages/Q/Q.fb700a64-c9bc-11ed-8ceb-38f9d362366a.jpg -> Annotation:/Users/olivia/Dropbox/Coding/Python/ML/cnn/asl-project/ASL_Detection/Tensorflow/workspace/images/collectedimages/Q/Q.fb700a64-c9bc-11ed-8ceb-38f9d362366a.xml\n",
      "Image:/Users/olivia/Dropbox/Coding/Python/ML/cnn/asl-project/ASL_Detection/Tensorflow/workspace/images/collectedimages/Q/Q.fca7ef32-c9bc-11ed-8ceb-38f9d362366a.jpg -> Annotation:/Users/olivia/Dropbox/Coding/Python/ML/cnn/asl-project/ASL_Detection/Tensorflow/workspace/images/collectedimages/Q/Q.fca7ef32-c9bc-11ed-8ceb-38f9d362366a.xml\n",
      "Image:/Users/olivia/Dropbox/Coding/Python/ML/cnn/asl-project/ASL_Detection/Tensorflow/workspace/images/collectedimages/Q/Q.fde524fa-c9bc-11ed-8ceb-38f9d362366a.jpg -> Annotation:/Users/olivia/Dropbox/Coding/Python/ML/cnn/asl-project/ASL_Detection/Tensorflow/workspace/images/collectedimages/Q/Q.fde524fa-c9bc-11ed-8ceb-38f9d362366a.xml\n",
      "Image:/Users/olivia/Dropbox/Coding/Python/ML/cnn/asl-project/ASL_Detection/Tensorflow/workspace/images/collectedimages/Q/Q.ff233956-c9bc-11ed-8ceb-38f9d362366a.jpg -> Annotation:/Users/olivia/Dropbox/Coding/Python/ML/cnn/asl-project/ASL_Detection/Tensorflow/workspace/images/collectedimages/Q/Q.ff233956-c9bc-11ed-8ceb-38f9d362366a.xml\n",
      "Image:/Users/olivia/Dropbox/Coding/Python/ML/cnn/asl-project/ASL_Detection/Tensorflow/workspace/images/collectedimages/P/P.8b36359e-ca51-11ed-8ceb-38f9d362366a.jpg -> Annotation:/Users/olivia/Dropbox/Coding/Python/ML/cnn/asl-project/ASL_Detection/Tensorflow/workspace/images/collectedimages/P/P.8b36359e-ca51-11ed-8ceb-38f9d362366a.xml\n",
      "Image:/Users/olivia/Dropbox/Coding/Python/ML/cnn/asl-project/ASL_Detection/Tensorflow/workspace/images/collectedimages/P/P.8c6fa102-ca51-11ed-8ceb-38f9d362366a.jpg -> Annotation:/Users/olivia/Dropbox/Coding/Python/ML/cnn/asl-project/ASL_Detection/Tensorflow/workspace/images/collectedimages/P/P.8c6fa102-ca51-11ed-8ceb-38f9d362366a.xml\n",
      "Image:/Users/olivia/Dropbox/Coding/Python/ML/cnn/asl-project/ASL_Detection/Tensorflow/workspace/images/collectedimages/P/P.8daade42-ca51-11ed-8ceb-38f9d362366a.jpg -> Annotation:/Users/olivia/Dropbox/Coding/Python/ML/cnn/asl-project/ASL_Detection/Tensorflow/workspace/images/collectedimages/P/P.8daade42-ca51-11ed-8ceb-38f9d362366a.xml\n"
     ]
    },
    {
     "name": "stdout",
     "output_type": "stream",
     "text": [
      "Image:/Users/olivia/Dropbox/Coding/Python/ML/cnn/asl-project/ASL_Detection/Tensorflow/workspace/images/collectedimages/P/P.8ee4e15e-ca51-11ed-8ceb-38f9d362366a.jpg -> Annotation:/Users/olivia/Dropbox/Coding/Python/ML/cnn/asl-project/ASL_Detection/Tensorflow/workspace/images/collectedimages/P/P.8ee4e15e-ca51-11ed-8ceb-38f9d362366a.xml\n",
      "Image:/Users/olivia/Dropbox/Coding/Python/ML/cnn/asl-project/ASL_Detection/Tensorflow/workspace/images/collectedimages/P/P.88c363a4-ca51-11ed-8ceb-38f9d362366a.jpg -> Annotation:/Users/olivia/Dropbox/Coding/Python/ML/cnn/asl-project/ASL_Detection/Tensorflow/workspace/images/collectedimages/P/P.88c363a4-ca51-11ed-8ceb-38f9d362366a.xml\n",
      "Image:/Users/olivia/Dropbox/Coding/Python/ML/cnn/asl-project/ASL_Detection/Tensorflow/workspace/images/collectedimages/P/P.89ff03cc-ca51-11ed-8ceb-38f9d362366a.jpg -> Annotation:/Users/olivia/Dropbox/Coding/Python/ML/cnn/asl-project/ASL_Detection/Tensorflow/workspace/images/collectedimages/P/P.89ff03cc-ca51-11ed-8ceb-38f9d362366a.xml\n",
      "Image:/Users/olivia/Dropbox/Coding/Python/ML/cnn/asl-project/ASL_Detection/Tensorflow/workspace/images/collectedimages/P/P.87895e4e-ca51-11ed-8ceb-38f9d362366a.jpg -> Annotation:/Users/olivia/Dropbox/Coding/Python/ML/cnn/asl-project/ASL_Detection/Tensorflow/workspace/images/collectedimages/P/P.87895e4e-ca51-11ed-8ceb-38f9d362366a.xml\n",
      "Image:/Users/olivia/Dropbox/Coding/Python/ML/cnn/asl-project/ASL_Detection/Tensorflow/workspace/images/collectedimages/P/P.e9b191a8-c9bc-11ed-8ceb-38f9d362366a.jpg -> Annotation:/Users/olivia/Dropbox/Coding/Python/ML/cnn/asl-project/ASL_Detection/Tensorflow/workspace/images/collectedimages/P/P.e9b191a8-c9bc-11ed-8ceb-38f9d362366a.xml\n",
      "Image:/Users/olivia/Dropbox/Coding/Python/ML/cnn/asl-project/ASL_Detection/Tensorflow/workspace/images/collectedimages/P/P.e73d92d2-c9bc-11ed-8ceb-38f9d362366a.jpg -> Annotation:/Users/olivia/Dropbox/Coding/Python/ML/cnn/asl-project/ASL_Detection/Tensorflow/workspace/images/collectedimages/P/P.e73d92d2-c9bc-11ed-8ceb-38f9d362366a.xml\n",
      "Image:/Users/olivia/Dropbox/Coding/Python/ML/cnn/asl-project/ASL_Detection/Tensorflow/workspace/images/collectedimages/P/P.e8748cc8-c9bc-11ed-8ceb-38f9d362366a.jpg -> Annotation:/Users/olivia/Dropbox/Coding/Python/ML/cnn/asl-project/ASL_Detection/Tensorflow/workspace/images/collectedimages/P/P.e8748cc8-c9bc-11ed-8ceb-38f9d362366a.xml\n",
      "Image:/Users/olivia/Dropbox/Coding/Python/ML/cnn/asl-project/ASL_Detection/Tensorflow/workspace/images/collectedimages/O/O.d7e6510c-c9bc-11ed-8ceb-38f9d362366a.jpg -> Annotation:/Users/olivia/Dropbox/Coding/Python/ML/cnn/asl-project/ASL_Detection/Tensorflow/workspace/images/collectedimages/O/O.d7e6510c-c9bc-11ed-8ceb-38f9d362366a.xml\n",
      "Image:/Users/olivia/Dropbox/Coding/Python/ML/cnn/asl-project/ASL_Detection/Tensorflow/workspace/images/collectedimages/O/O.d923606e-c9bc-11ed-8ceb-38f9d362366a.jpg -> Annotation:/Users/olivia/Dropbox/Coding/Python/ML/cnn/asl-project/ASL_Detection/Tensorflow/workspace/images/collectedimages/O/O.d923606e-c9bc-11ed-8ceb-38f9d362366a.xml\n",
      "Image:/Users/olivia/Dropbox/Coding/Python/ML/cnn/asl-project/ASL_Detection/Tensorflow/workspace/images/collectedimages/O/O.da61df78-c9bc-11ed-8ceb-38f9d362366a.jpg -> Annotation:/Users/olivia/Dropbox/Coding/Python/ML/cnn/asl-project/ASL_Detection/Tensorflow/workspace/images/collectedimages/O/O.da61df78-c9bc-11ed-8ceb-38f9d362366a.xml\n",
      "Image:/Users/olivia/Dropbox/Coding/Python/ML/cnn/asl-project/ASL_Detection/Tensorflow/workspace/images/collectedimages/O/O.db9a0d20-c9bc-11ed-8ceb-38f9d362366a.jpg -> Annotation:/Users/olivia/Dropbox/Coding/Python/ML/cnn/asl-project/ASL_Detection/Tensorflow/workspace/images/collectedimages/O/O.db9a0d20-c9bc-11ed-8ceb-38f9d362366a.xml\n",
      "Image:/Users/olivia/Dropbox/Coding/Python/ML/cnn/asl-project/ASL_Detection/Tensorflow/workspace/images/collectedimages/O/O.dcd6aef0-c9bc-11ed-8ceb-38f9d362366a.jpg -> Annotation:/Users/olivia/Dropbox/Coding/Python/ML/cnn/asl-project/ASL_Detection/Tensorflow/workspace/images/collectedimages/O/O.dcd6aef0-c9bc-11ed-8ceb-38f9d362366a.xml\n",
      "Image:/Users/olivia/Dropbox/Coding/Python/ML/cnn/asl-project/ASL_Detection/Tensorflow/workspace/images/collectedimages/O/O.de0e3d74-c9bc-11ed-8ceb-38f9d362366a.jpg -> Annotation:/Users/olivia/Dropbox/Coding/Python/ML/cnn/asl-project/ASL_Detection/Tensorflow/workspace/images/collectedimages/O/O.de0e3d74-c9bc-11ed-8ceb-38f9d362366a.xml\n",
      "Image:/Users/olivia/Dropbox/Coding/Python/ML/cnn/asl-project/ASL_Detection/Tensorflow/workspace/images/collectedimages/O/O.df481ba6-c9bc-11ed-8ceb-38f9d362366a.jpg -> Annotation:/Users/olivia/Dropbox/Coding/Python/ML/cnn/asl-project/ASL_Detection/Tensorflow/workspace/images/collectedimages/O/O.df481ba6-c9bc-11ed-8ceb-38f9d362366a.xml\n",
      "Image:/Users/olivia/Dropbox/Coding/Python/ML/cnn/asl-project/ASL_Detection/Tensorflow/workspace/images/collectedimages/O/O.e1c27174-c9bc-11ed-8ceb-38f9d362366a.jpg -> Annotation:/Users/olivia/Dropbox/Coding/Python/ML/cnn/asl-project/ASL_Detection/Tensorflow/workspace/images/collectedimages/O/O.e1c27174-c9bc-11ed-8ceb-38f9d362366a.xml\n",
      "Image:/Users/olivia/Dropbox/Coding/Python/ML/cnn/asl-project/ASL_Detection/Tensorflow/workspace/images/collectedimages/O/O.e2fce0f6-c9bc-11ed-8ceb-38f9d362366a.jpg -> Annotation:/Users/olivia/Dropbox/Coding/Python/ML/cnn/asl-project/ASL_Detection/Tensorflow/workspace/images/collectedimages/O/O.e2fce0f6-c9bc-11ed-8ceb-38f9d362366a.xml\n",
      "Image:/Users/olivia/Dropbox/Coding/Python/ML/cnn/asl-project/ASL_Detection/Tensorflow/workspace/images/collectedimages/O/O.e083a742-c9bc-11ed-8ceb-38f9d362366a.jpg -> Annotation:/Users/olivia/Dropbox/Coding/Python/ML/cnn/asl-project/ASL_Detection/Tensorflow/workspace/images/collectedimages/O/O.e083a742-c9bc-11ed-8ceb-38f9d362366a.xml\n",
      "Image:/Users/olivia/Dropbox/Coding/Python/ML/cnn/asl-project/ASL_Detection/Tensorflow/workspace/images/collectedimages/N/N.c9d831f2-c9bc-11ed-8ceb-38f9d362366a.jpg -> Annotation:/Users/olivia/Dropbox/Coding/Python/ML/cnn/asl-project/ASL_Detection/Tensorflow/workspace/images/collectedimages/N/N.c9d831f2-c9bc-11ed-8ceb-38f9d362366a.xml\n",
      "Image:/Users/olivia/Dropbox/Coding/Python/ML/cnn/asl-project/ASL_Detection/Tensorflow/workspace/images/collectedimages/N/N.c89f6cce-c9bc-11ed-8ceb-38f9d362366a.jpg -> Annotation:/Users/olivia/Dropbox/Coding/Python/ML/cnn/asl-project/ASL_Detection/Tensorflow/workspace/images/collectedimages/N/N.c89f6cce-c9bc-11ed-8ceb-38f9d362366a.xml\n",
      "Image:/Users/olivia/Dropbox/Coding/Python/ML/cnn/asl-project/ASL_Detection/Tensorflow/workspace/images/collectedimages/N/N.cb1013be-c9bc-11ed-8ceb-38f9d362366a.jpg -> Annotation:/Users/olivia/Dropbox/Coding/Python/ML/cnn/asl-project/ASL_Detection/Tensorflow/workspace/images/collectedimages/N/N.cb1013be-c9bc-11ed-8ceb-38f9d362366a.xml\n",
      "Image:/Users/olivia/Dropbox/Coding/Python/ML/cnn/asl-project/ASL_Detection/Tensorflow/workspace/images/collectedimages/N/N.cc472128-c9bc-11ed-8ceb-38f9d362366a.jpg -> Annotation:/Users/olivia/Dropbox/Coding/Python/ML/cnn/asl-project/ASL_Detection/Tensorflow/workspace/images/collectedimages/N/N.cc472128-c9bc-11ed-8ceb-38f9d362366a.xml\n",
      "Image:/Users/olivia/Dropbox/Coding/Python/ML/cnn/asl-project/ASL_Detection/Tensorflow/workspace/images/collectedimages/N/N.cd7eb826-c9bc-11ed-8ceb-38f9d362366a.jpg -> Annotation:/Users/olivia/Dropbox/Coding/Python/ML/cnn/asl-project/ASL_Detection/Tensorflow/workspace/images/collectedimages/N/N.cd7eb826-c9bc-11ed-8ceb-38f9d362366a.xml\n",
      "Image:/Users/olivia/Dropbox/Coding/Python/ML/cnn/asl-project/ASL_Detection/Tensorflow/workspace/images/collectedimages/N/N.ceb7cc96-c9bc-11ed-8ceb-38f9d362366a.jpg -> Annotation:/Users/olivia/Dropbox/Coding/Python/ML/cnn/asl-project/ASL_Detection/Tensorflow/workspace/images/collectedimages/N/N.ceb7cc96-c9bc-11ed-8ceb-38f9d362366a.xml\n",
      "Image:/Users/olivia/Dropbox/Coding/Python/ML/cnn/asl-project/ASL_Detection/Tensorflow/workspace/images/collectedimages/N/N.cff4a714-c9bc-11ed-8ceb-38f9d362366a.jpg -> Annotation:/Users/olivia/Dropbox/Coding/Python/ML/cnn/asl-project/ASL_Detection/Tensorflow/workspace/images/collectedimages/N/N.cff4a714-c9bc-11ed-8ceb-38f9d362366a.xml\n",
      "Image:/Users/olivia/Dropbox/Coding/Python/ML/cnn/asl-project/ASL_Detection/Tensorflow/workspace/images/collectedimages/N/N.d3a30bbc-c9bc-11ed-8ceb-38f9d362366a.jpg -> Annotation:/Users/olivia/Dropbox/Coding/Python/ML/cnn/asl-project/ASL_Detection/Tensorflow/workspace/images/collectedimages/N/N.d3a30bbc-c9bc-11ed-8ceb-38f9d362366a.xml\n"
     ]
    },
    {
     "name": "stdout",
     "output_type": "stream",
     "text": [
      "Image:/Users/olivia/Dropbox/Coding/Python/ML/cnn/asl-project/ASL_Detection/Tensorflow/workspace/images/collectedimages/N/N.d12baf74-c9bc-11ed-8ceb-38f9d362366a.jpg -> Annotation:/Users/olivia/Dropbox/Coding/Python/ML/cnn/asl-project/ASL_Detection/Tensorflow/workspace/images/collectedimages/N/N.d12baf74-c9bc-11ed-8ceb-38f9d362366a.xml\n",
      "Image:/Users/olivia/Dropbox/Coding/Python/ML/cnn/asl-project/ASL_Detection/Tensorflow/workspace/images/collectedimages/N/N.d267f618-c9bc-11ed-8ceb-38f9d362366a.jpg -> Annotation:/Users/olivia/Dropbox/Coding/Python/ML/cnn/asl-project/ASL_Detection/Tensorflow/workspace/images/collectedimages/N/N.d267f618-c9bc-11ed-8ceb-38f9d362366a.xml\n",
      "Image:/Users/olivia/Dropbox/Coding/Python/ML/cnn/asl-project/ASL_Detection/Tensorflow/workspace/images/collectedimages/M/M.b94b9004-c9bc-11ed-8ceb-38f9d362366a.jpg -> Annotation:/Users/olivia/Dropbox/Coding/Python/ML/cnn/asl-project/ASL_Detection/Tensorflow/workspace/images/collectedimages/M/M.b94b9004-c9bc-11ed-8ceb-38f9d362366a.xml\n",
      "Image:/Users/olivia/Dropbox/Coding/Python/ML/cnn/asl-project/ASL_Detection/Tensorflow/workspace/images/collectedimages/M/M.ba885b96-c9bc-11ed-8ceb-38f9d362366a.jpg -> Annotation:/Users/olivia/Dropbox/Coding/Python/ML/cnn/asl-project/ASL_Detection/Tensorflow/workspace/images/collectedimages/M/M.ba885b96-c9bc-11ed-8ceb-38f9d362366a.xml\n",
      "Image:/Users/olivia/Dropbox/Coding/Python/ML/cnn/asl-project/ASL_Detection/Tensorflow/workspace/images/collectedimages/M/M.bbc1530a-c9bc-11ed-8ceb-38f9d362366a.jpg -> Annotation:/Users/olivia/Dropbox/Coding/Python/ML/cnn/asl-project/ASL_Detection/Tensorflow/workspace/images/collectedimages/M/M.bbc1530a-c9bc-11ed-8ceb-38f9d362366a.xml\n",
      "Image:/Users/olivia/Dropbox/Coding/Python/ML/cnn/asl-project/ASL_Detection/Tensorflow/workspace/images/collectedimages/M/M.bcf792fc-c9bc-11ed-8ceb-38f9d362366a.jpg -> Annotation:/Users/olivia/Dropbox/Coding/Python/ML/cnn/asl-project/ASL_Detection/Tensorflow/workspace/images/collectedimages/M/M.bcf792fc-c9bc-11ed-8ceb-38f9d362366a.xml\n",
      "Image:/Users/olivia/Dropbox/Coding/Python/ML/cnn/asl-project/ASL_Detection/Tensorflow/workspace/images/collectedimages/M/M.be3aac9e-c9bc-11ed-8ceb-38f9d362366a.jpg -> Annotation:/Users/olivia/Dropbox/Coding/Python/ML/cnn/asl-project/ASL_Detection/Tensorflow/workspace/images/collectedimages/M/M.be3aac9e-c9bc-11ed-8ceb-38f9d362366a.xml\n",
      "Image:/Users/olivia/Dropbox/Coding/Python/ML/cnn/asl-project/ASL_Detection/Tensorflow/workspace/images/collectedimages/M/M.bf723c80-c9bc-11ed-8ceb-38f9d362366a.jpg -> Annotation:/Users/olivia/Dropbox/Coding/Python/ML/cnn/asl-project/ASL_Detection/Tensorflow/workspace/images/collectedimages/M/M.bf723c80-c9bc-11ed-8ceb-38f9d362366a.xml\n",
      "Image:/Users/olivia/Dropbox/Coding/Python/ML/cnn/asl-project/ASL_Detection/Tensorflow/workspace/images/collectedimages/M/M.c0ab49e8-c9bc-11ed-8ceb-38f9d362366a.jpg -> Annotation:/Users/olivia/Dropbox/Coding/Python/ML/cnn/asl-project/ASL_Detection/Tensorflow/workspace/images/collectedimages/M/M.c0ab49e8-c9bc-11ed-8ceb-38f9d362366a.xml\n",
      "Image:/Users/olivia/Dropbox/Coding/Python/ML/cnn/asl-project/ASL_Detection/Tensorflow/workspace/images/collectedimages/M/M.c1e79ff0-c9bc-11ed-8ceb-38f9d362366a.jpg -> Annotation:/Users/olivia/Dropbox/Coding/Python/ML/cnn/asl-project/ASL_Detection/Tensorflow/workspace/images/collectedimages/M/M.c1e79ff0-c9bc-11ed-8ceb-38f9d362366a.xml\n",
      "Image:/Users/olivia/Dropbox/Coding/Python/ML/cnn/asl-project/ASL_Detection/Tensorflow/workspace/images/collectedimages/M/M.c31fdfb8-c9bc-11ed-8ceb-38f9d362366a.jpg -> Annotation:/Users/olivia/Dropbox/Coding/Python/ML/cnn/asl-project/ASL_Detection/Tensorflow/workspace/images/collectedimages/M/M.c31fdfb8-c9bc-11ed-8ceb-38f9d362366a.xml\n",
      "Image:/Users/olivia/Dropbox/Coding/Python/ML/cnn/asl-project/ASL_Detection/Tensorflow/workspace/images/collectedimages/M/M.c31fdfb8-c9bc-11ed-8ceb-38f9d362366a.jpg -> Annotation:/Users/olivia/Dropbox/Coding/Python/ML/cnn/asl-project/ASL_Detection/Tensorflow/workspace/images/collectedimages/M/M.c31fdfb8-c9bc-11ed-8ceb-38f9d362366a.xml\n",
      "Image:/Users/olivia/Dropbox/Coding/Python/ML/cnn/asl-project/ASL_Detection/Tensorflow/workspace/images/collectedimages/M/M.c45cee98-c9bc-11ed-8ceb-38f9d362366a.jpg -> Annotation:/Users/olivia/Dropbox/Coding/Python/ML/cnn/asl-project/ASL_Detection/Tensorflow/workspace/images/collectedimages/M/M.c45cee98-c9bc-11ed-8ceb-38f9d362366a.xml\n",
      "Image:/Users/olivia/Dropbox/Coding/Python/ML/cnn/asl-project/ASL_Detection/Tensorflow/workspace/images/collectedimages/L/L.aa0d4e8e-c9bc-11ed-8ceb-38f9d362366a.jpg -> Annotation:/Users/olivia/Dropbox/Coding/Python/ML/cnn/asl-project/ASL_Detection/Tensorflow/workspace/images/collectedimages/L/L.aa0d4e8e-c9bc-11ed-8ceb-38f9d362366a.xml\n",
      "Image:/Users/olivia/Dropbox/Coding/Python/ML/cnn/asl-project/ASL_Detection/Tensorflow/workspace/images/collectedimages/L/L.ab44b9e0-c9bc-11ed-8ceb-38f9d362366a.jpg -> Annotation:/Users/olivia/Dropbox/Coding/Python/ML/cnn/asl-project/ASL_Detection/Tensorflow/workspace/images/collectedimages/L/L.ab44b9e0-c9bc-11ed-8ceb-38f9d362366a.xml\n",
      "Cancel creation.\n",
      "Image:/Users/olivia/Dropbox/Coding/Python/ML/cnn/asl-project/ASL_Detection/Tensorflow/workspace/images/collectedimages/L/L.ac8211cc-c9bc-11ed-8ceb-38f9d362366a.jpg -> Annotation:/Users/olivia/Dropbox/Coding/Python/ML/cnn/asl-project/ASL_Detection/Tensorflow/workspace/images/collectedimages/L/L.ac8211cc-c9bc-11ed-8ceb-38f9d362366a.xml\n",
      "Image:/Users/olivia/Dropbox/Coding/Python/ML/cnn/asl-project/ASL_Detection/Tensorflow/workspace/images/collectedimages/L/L.adbb8c3a-c9bc-11ed-8ceb-38f9d362366a.jpg -> Annotation:/Users/olivia/Dropbox/Coding/Python/ML/cnn/asl-project/ASL_Detection/Tensorflow/workspace/images/collectedimages/L/L.adbb8c3a-c9bc-11ed-8ceb-38f9d362366a.xml\n",
      "Image:/Users/olivia/Dropbox/Coding/Python/ML/cnn/asl-project/ASL_Detection/Tensorflow/workspace/images/collectedimages/L/L.aef25d4a-c9bc-11ed-8ceb-38f9d362366a.jpg -> Annotation:/Users/olivia/Dropbox/Coding/Python/ML/cnn/asl-project/ASL_Detection/Tensorflow/workspace/images/collectedimages/L/L.aef25d4a-c9bc-11ed-8ceb-38f9d362366a.xml\n",
      "Image:/Users/olivia/Dropbox/Coding/Python/ML/cnn/asl-project/ASL_Detection/Tensorflow/workspace/images/collectedimages/L/L.aef25d4a-c9bc-11ed-8ceb-38f9d362366a.jpg -> Annotation:/Users/olivia/Dropbox/Coding/Python/ML/cnn/asl-project/ASL_Detection/Tensorflow/workspace/images/collectedimages/L/L.aef25d4a-c9bc-11ed-8ceb-38f9d362366a.xml\n",
      "Image:/Users/olivia/Dropbox/Coding/Python/ML/cnn/asl-project/ASL_Detection/Tensorflow/workspace/images/collectedimages/L/L.b3cf83ce-c9bc-11ed-8ceb-38f9d362366a.jpg -> Annotation:/Users/olivia/Dropbox/Coding/Python/ML/cnn/asl-project/ASL_Detection/Tensorflow/workspace/images/collectedimages/L/L.b3cf83ce-c9bc-11ed-8ceb-38f9d362366a.xml\n",
      "Image:/Users/olivia/Dropbox/Coding/Python/ML/cnn/asl-project/ASL_Detection/Tensorflow/workspace/images/collectedimages/L/L.b15f50ce-c9bc-11ed-8ceb-38f9d362366a.jpg -> Annotation:/Users/olivia/Dropbox/Coding/Python/ML/cnn/asl-project/ASL_Detection/Tensorflow/workspace/images/collectedimages/L/L.b15f50ce-c9bc-11ed-8ceb-38f9d362366a.xml\n",
      "Image:/Users/olivia/Dropbox/Coding/Python/ML/cnn/asl-project/ASL_Detection/Tensorflow/workspace/images/collectedimages/L/L.b2976c60-c9bc-11ed-8ceb-38f9d362366a.jpg -> Annotation:/Users/olivia/Dropbox/Coding/Python/ML/cnn/asl-project/ASL_Detection/Tensorflow/workspace/images/collectedimages/L/L.b2976c60-c9bc-11ed-8ceb-38f9d362366a.xml\n",
      "Image:/Users/olivia/Dropbox/Coding/Python/ML/cnn/asl-project/ASL_Detection/Tensorflow/workspace/images/collectedimages/L/L.b028875c-c9bc-11ed-8ceb-38f9d362366a.jpg -> Annotation:/Users/olivia/Dropbox/Coding/Python/ML/cnn/asl-project/ASL_Detection/Tensorflow/workspace/images/collectedimages/L/L.b028875c-c9bc-11ed-8ceb-38f9d362366a.xml\n",
      "Image:/Users/olivia/Dropbox/Coding/Python/ML/cnn/asl-project/ASL_Detection/Tensorflow/workspace/images/collectedimages/L/L.b50687ba-c9bc-11ed-8ceb-38f9d362366a.jpg -> Annotation:/Users/olivia/Dropbox/Coding/Python/ML/cnn/asl-project/ASL_Detection/Tensorflow/workspace/images/collectedimages/L/L.b50687ba-c9bc-11ed-8ceb-38f9d362366a.xml\n",
      "ESC press\n",
      "Cancel creation.\n",
      "Image:/Users/olivia/Dropbox/Coding/Python/ML/cnn/asl-project/ASL_Detection/Tensorflow/workspace/images/collectedimages/K/K.9ac36d5a-c9bc-11ed-8ceb-38f9d362366a.jpg -> Annotation:/Users/olivia/Dropbox/Coding/Python/ML/cnn/asl-project/ASL_Detection/Tensorflow/workspace/images/collectedimages/K/K.9ac36d5a-c9bc-11ed-8ceb-38f9d362366a.xml\n"
     ]
    },
    {
     "name": "stdout",
     "output_type": "stream",
     "text": [
      "Image:/Users/olivia/Dropbox/Coding/Python/ML/cnn/asl-project/ASL_Detection/Tensorflow/workspace/images/collectedimages/K/K.9bfab2c8-c9bc-11ed-8ceb-38f9d362366a.jpg -> Annotation:/Users/olivia/Dropbox/Coding/Python/ML/cnn/asl-project/ASL_Detection/Tensorflow/workspace/images/collectedimages/K/K.9bfab2c8-c9bc-11ed-8ceb-38f9d362366a.xml\n",
      "Image:/Users/olivia/Dropbox/Coding/Python/ML/cnn/asl-project/ASL_Detection/Tensorflow/workspace/images/collectedimages/K/K.9d312d70-c9bc-11ed-8ceb-38f9d362366a.jpg -> Annotation:/Users/olivia/Dropbox/Coding/Python/ML/cnn/asl-project/ASL_Detection/Tensorflow/workspace/images/collectedimages/K/K.9d312d70-c9bc-11ed-8ceb-38f9d362366a.xml\n",
      "Image:/Users/olivia/Dropbox/Coding/Python/ML/cnn/asl-project/ASL_Detection/Tensorflow/workspace/images/collectedimages/K/K.9e695578-c9bc-11ed-8ceb-38f9d362366a.jpg -> Annotation:/Users/olivia/Dropbox/Coding/Python/ML/cnn/asl-project/ASL_Detection/Tensorflow/workspace/images/collectedimages/K/K.9e695578-c9bc-11ed-8ceb-38f9d362366a.xml\n",
      "Image:/Users/olivia/Dropbox/Coding/Python/ML/cnn/asl-project/ASL_Detection/Tensorflow/workspace/images/collectedimages/K/K.9fa0e4c4-c9bc-11ed-8ceb-38f9d362366a.jpg -> Annotation:/Users/olivia/Dropbox/Coding/Python/ML/cnn/asl-project/ASL_Detection/Tensorflow/workspace/images/collectedimages/K/K.9fa0e4c4-c9bc-11ed-8ceb-38f9d362366a.xml\n",
      "Image:/Users/olivia/Dropbox/Coding/Python/ML/cnn/asl-project/ASL_Detection/Tensorflow/workspace/images/collectedimages/K/K.a0dd346e-c9bc-11ed-8ceb-38f9d362366a.jpg -> Annotation:/Users/olivia/Dropbox/Coding/Python/ML/cnn/asl-project/ASL_Detection/Tensorflow/workspace/images/collectedimages/K/K.a0dd346e-c9bc-11ed-8ceb-38f9d362366a.xml\n",
      "Image:/Users/olivia/Dropbox/Coding/Python/ML/cnn/asl-project/ASL_Detection/Tensorflow/workspace/images/collectedimages/K/K.a5c77a3e-c9bc-11ed-8ceb-38f9d362366a.jpg -> Annotation:/Users/olivia/Dropbox/Coding/Python/ML/cnn/asl-project/ASL_Detection/Tensorflow/workspace/images/collectedimages/K/K.a5c77a3e-c9bc-11ed-8ceb-38f9d362366a.xml\n",
      "Image:/Users/olivia/Dropbox/Coding/Python/ML/cnn/asl-project/ASL_Detection/Tensorflow/workspace/images/collectedimages/K/K.a34e753c-c9bc-11ed-8ceb-38f9d362366a.jpg -> Annotation:/Users/olivia/Dropbox/Coding/Python/ML/cnn/asl-project/ASL_Detection/Tensorflow/workspace/images/collectedimages/K/K.a34e753c-c9bc-11ed-8ceb-38f9d362366a.xml\n",
      "Image:/Users/olivia/Dropbox/Coding/Python/ML/cnn/asl-project/ASL_Detection/Tensorflow/workspace/images/collectedimages/K/K.a48ab6c2-c9bc-11ed-8ceb-38f9d362366a.jpg -> Annotation:/Users/olivia/Dropbox/Coding/Python/ML/cnn/asl-project/ASL_Detection/Tensorflow/workspace/images/collectedimages/K/K.a48ab6c2-c9bc-11ed-8ceb-38f9d362366a.xml\n",
      "Image:/Users/olivia/Dropbox/Coding/Python/ML/cnn/asl-project/ASL_Detection/Tensorflow/workspace/images/collectedimages/K/K.a216df9c-c9bc-11ed-8ceb-38f9d362366a.jpg -> Annotation:/Users/olivia/Dropbox/Coding/Python/ML/cnn/asl-project/ASL_Detection/Tensorflow/workspace/images/collectedimages/K/K.a216df9c-c9bc-11ed-8ceb-38f9d362366a.xml\n",
      "Image:/Users/olivia/Dropbox/Coding/Python/ML/cnn/asl-project/ASL_Detection/Tensorflow/workspace/images/collectedimages/J/J.8b6bc258-c9bc-11ed-8ceb-38f9d362366a.jpg -> Annotation:/Users/olivia/Dropbox/Coding/Python/ML/cnn/asl-project/ASL_Detection/Tensorflow/workspace/images/collectedimages/J/J.8b6bc258-c9bc-11ed-8ceb-38f9d362366a.xml\n",
      "Image:/Users/olivia/Dropbox/Coding/Python/ML/cnn/asl-project/ASL_Detection/Tensorflow/workspace/images/collectedimages/J/J.8ca39efc-c9bc-11ed-8ceb-38f9d362366a.jpg -> Annotation:/Users/olivia/Dropbox/Coding/Python/ML/cnn/asl-project/ASL_Detection/Tensorflow/workspace/images/collectedimages/J/J.8ca39efc-c9bc-11ed-8ceb-38f9d362366a.xml\n",
      "Image:/Users/olivia/Dropbox/Coding/Python/ML/cnn/asl-project/ASL_Detection/Tensorflow/workspace/images/collectedimages/J/J.8de1d824-c9bc-11ed-8ceb-38f9d362366a.jpg -> Annotation:/Users/olivia/Dropbox/Coding/Python/ML/cnn/asl-project/ASL_Detection/Tensorflow/workspace/images/collectedimages/J/J.8de1d824-c9bc-11ed-8ceb-38f9d362366a.xml\n",
      "Image:/Users/olivia/Dropbox/Coding/Python/ML/cnn/asl-project/ASL_Detection/Tensorflow/workspace/images/collectedimages/J/J.8f1a4028-c9bc-11ed-8ceb-38f9d362366a.jpg -> Annotation:/Users/olivia/Dropbox/Coding/Python/ML/cnn/asl-project/ASL_Detection/Tensorflow/workspace/images/collectedimages/J/J.8f1a4028-c9bc-11ed-8ceb-38f9d362366a.xml\n",
      "Image:/Users/olivia/Dropbox/Coding/Python/ML/cnn/asl-project/ASL_Detection/Tensorflow/workspace/images/collectedimages/J/J.92d10d1e-c9bc-11ed-8ceb-38f9d362366a.jpg -> Annotation:/Users/olivia/Dropbox/Coding/Python/ML/cnn/asl-project/ASL_Detection/Tensorflow/workspace/images/collectedimages/J/J.92d10d1e-c9bc-11ed-8ceb-38f9d362366a.xml\n",
      "Image:/Users/olivia/Dropbox/Coding/Python/ML/cnn/asl-project/ASL_Detection/Tensorflow/workspace/images/collectedimages/J/J.967f37e2-c9bc-11ed-8ceb-38f9d362366a.jpg -> Annotation:/Users/olivia/Dropbox/Coding/Python/ML/cnn/asl-project/ASL_Detection/Tensorflow/workspace/images/collectedimages/J/J.967f37e2-c9bc-11ed-8ceb-38f9d362366a.xml\n",
      "Image:/Users/olivia/Dropbox/Coding/Python/ML/cnn/asl-project/ASL_Detection/Tensorflow/workspace/images/collectedimages/J/J.9193b4ec-c9bc-11ed-8ceb-38f9d362366a.jpg -> Annotation:/Users/olivia/Dropbox/Coding/Python/ML/cnn/asl-project/ASL_Detection/Tensorflow/workspace/images/collectedimages/J/J.9193b4ec-c9bc-11ed-8ceb-38f9d362366a.xml\n",
      "Image:/Users/olivia/Dropbox/Coding/Python/ML/cnn/asl-project/ASL_Detection/Tensorflow/workspace/images/collectedimages/J/J.9541e776-c9bc-11ed-8ceb-38f9d362366a.jpg -> Annotation:/Users/olivia/Dropbox/Coding/Python/ML/cnn/asl-project/ASL_Detection/Tensorflow/workspace/images/collectedimages/J/J.9541e776-c9bc-11ed-8ceb-38f9d362366a.xml\n",
      "Image:/Users/olivia/Dropbox/Coding/Python/ML/cnn/asl-project/ASL_Detection/Tensorflow/workspace/images/collectedimages/J/J.90562d44-c9bc-11ed-8ceb-38f9d362366a.jpg -> Annotation:/Users/olivia/Dropbox/Coding/Python/ML/cnn/asl-project/ASL_Detection/Tensorflow/workspace/images/collectedimages/J/J.90562d44-c9bc-11ed-8ceb-38f9d362366a.xml\n",
      "Image:/Users/olivia/Dropbox/Coding/Python/ML/cnn/asl-project/ASL_Detection/Tensorflow/workspace/images/collectedimages/J/J.940970fe-c9bc-11ed-8ceb-38f9d362366a.jpg -> Annotation:/Users/olivia/Dropbox/Coding/Python/ML/cnn/asl-project/ASL_Detection/Tensorflow/workspace/images/collectedimages/J/J.940970fe-c9bc-11ed-8ceb-38f9d362366a.xml\n",
      "Image:/Users/olivia/Dropbox/Coding/Python/ML/cnn/asl-project/ASL_Detection/Tensorflow/workspace/images/collectedimages/I/I.7c3bdc78-c9bc-11ed-8ceb-38f9d362366a.jpg -> Annotation:/Users/olivia/Dropbox/Coding/Python/ML/cnn/asl-project/ASL_Detection/Tensorflow/workspace/images/collectedimages/I/I.7c3bdc78-c9bc-11ed-8ceb-38f9d362366a.xml\n",
      "Image:/Users/olivia/Dropbox/Coding/Python/ML/cnn/asl-project/ASL_Detection/Tensorflow/workspace/images/collectedimages/I/I.7d727868-c9bc-11ed-8ceb-38f9d362366a.jpg -> Annotation:/Users/olivia/Dropbox/Coding/Python/ML/cnn/asl-project/ASL_Detection/Tensorflow/workspace/images/collectedimages/I/I.7d727868-c9bc-11ed-8ceb-38f9d362366a.xml\n",
      "Image:/Users/olivia/Dropbox/Coding/Python/ML/cnn/asl-project/ASL_Detection/Tensorflow/workspace/images/collectedimages/I/I.7ea92696-c9bc-11ed-8ceb-38f9d362366a.jpg -> Annotation:/Users/olivia/Dropbox/Coding/Python/ML/cnn/asl-project/ASL_Detection/Tensorflow/workspace/images/collectedimages/I/I.7ea92696-c9bc-11ed-8ceb-38f9d362366a.xml\n",
      "Cancel creation.\n",
      "Image:/Users/olivia/Dropbox/Coding/Python/ML/cnn/asl-project/ASL_Detection/Tensorflow/workspace/images/collectedimages/I/I.7fe13f08-c9bc-11ed-8ceb-38f9d362366a.jpg -> Annotation:/Users/olivia/Dropbox/Coding/Python/ML/cnn/asl-project/ASL_Detection/Tensorflow/workspace/images/collectedimages/I/I.7fe13f08-c9bc-11ed-8ceb-38f9d362366a.xml\n",
      "Image:/Users/olivia/Dropbox/Coding/Python/ML/cnn/asl-project/ASL_Detection/Tensorflow/workspace/images/collectedimages/I/I.84becd38-c9bc-11ed-8ceb-38f9d362366a.jpg -> Annotation:/Users/olivia/Dropbox/Coding/Python/ML/cnn/asl-project/ASL_Detection/Tensorflow/workspace/images/collectedimages/I/I.84becd38-c9bc-11ed-8ceb-38f9d362366a.xml\n",
      "Image:/Users/olivia/Dropbox/Coding/Python/ML/cnn/asl-project/ASL_Detection/Tensorflow/workspace/images/collectedimages/I/I.85f5de6c-c9bc-11ed-8ceb-38f9d362366a.jpg -> Annotation:/Users/olivia/Dropbox/Coding/Python/ML/cnn/asl-project/ASL_Detection/Tensorflow/workspace/images/collectedimages/I/I.85f5de6c-c9bc-11ed-8ceb-38f9d362366a.xml\n"
     ]
    },
    {
     "name": "stdout",
     "output_type": "stream",
     "text": [
      "Image:/Users/olivia/Dropbox/Coding/Python/ML/cnn/asl-project/ASL_Detection/Tensorflow/workspace/images/collectedimages/I/I.824ffaa4-c9bc-11ed-8ceb-38f9d362366a.jpg -> Annotation:/Users/olivia/Dropbox/Coding/Python/ML/cnn/asl-project/ASL_Detection/Tensorflow/workspace/images/collectedimages/I/I.824ffaa4-c9bc-11ed-8ceb-38f9d362366a.xml\n",
      "Image:/Users/olivia/Dropbox/Coding/Python/ML/cnn/asl-project/ASL_Detection/Tensorflow/workspace/images/collectedimages/I/I.872d4a0e-c9bc-11ed-8ceb-38f9d362366a.jpg -> Annotation:/Users/olivia/Dropbox/Coding/Python/ML/cnn/asl-project/ASL_Detection/Tensorflow/workspace/images/collectedimages/I/I.872d4a0e-c9bc-11ed-8ceb-38f9d362366a.xml\n",
      "Image:/Users/olivia/Dropbox/Coding/Python/ML/cnn/asl-project/ASL_Detection/Tensorflow/workspace/images/collectedimages/I/I.8118a67c-c9bc-11ed-8ceb-38f9d362366a.jpg -> Annotation:/Users/olivia/Dropbox/Coding/Python/ML/cnn/asl-project/ASL_Detection/Tensorflow/workspace/images/collectedimages/I/I.8118a67c-c9bc-11ed-8ceb-38f9d362366a.xml\n",
      "Image:/Users/olivia/Dropbox/Coding/Python/ML/cnn/asl-project/ASL_Detection/Tensorflow/workspace/images/collectedimages/I/I.8388426e-c9bc-11ed-8ceb-38f9d362366a.jpg -> Annotation:/Users/olivia/Dropbox/Coding/Python/ML/cnn/asl-project/ASL_Detection/Tensorflow/workspace/images/collectedimages/I/I.8388426e-c9bc-11ed-8ceb-38f9d362366a.xml\n",
      "Image:/Users/olivia/Dropbox/Coding/Python/ML/cnn/asl-project/ASL_Detection/Tensorflow/workspace/images/collectedimages/H/H.6d0a412c-c9bc-11ed-8ceb-38f9d362366a.jpg -> Annotation:/Users/olivia/Dropbox/Coding/Python/ML/cnn/asl-project/ASL_Detection/Tensorflow/workspace/images/collectedimages/H/H.6d0a412c-c9bc-11ed-8ceb-38f9d362366a.xml\n",
      "Image:/Users/olivia/Dropbox/Coding/Python/ML/cnn/asl-project/ASL_Detection/Tensorflow/workspace/images/collectedimages/H/H.6e413bae-c9bc-11ed-8ceb-38f9d362366a.jpg -> Annotation:/Users/olivia/Dropbox/Coding/Python/ML/cnn/asl-project/ASL_Detection/Tensorflow/workspace/images/collectedimages/H/H.6e413bae-c9bc-11ed-8ceb-38f9d362366a.xml\n",
      "Image:/Users/olivia/Dropbox/Coding/Python/ML/cnn/asl-project/ASL_Detection/Tensorflow/workspace/images/collectedimages/H/H.6f78550c-c9bc-11ed-8ceb-38f9d362366a.jpg -> Annotation:/Users/olivia/Dropbox/Coding/Python/ML/cnn/asl-project/ASL_Detection/Tensorflow/workspace/images/collectedimages/H/H.6f78550c-c9bc-11ed-8ceb-38f9d362366a.xml\n",
      "Image:/Users/olivia/Dropbox/Coding/Python/ML/cnn/asl-project/ASL_Detection/Tensorflow/workspace/images/collectedimages/H/H.70af5952-c9bc-11ed-8ceb-38f9d362366a.jpg -> Annotation:/Users/olivia/Dropbox/Coding/Python/ML/cnn/asl-project/ASL_Detection/Tensorflow/workspace/images/collectedimages/H/H.70af5952-c9bc-11ed-8ceb-38f9d362366a.xml\n",
      "Image:/Users/olivia/Dropbox/Coding/Python/ML/cnn/asl-project/ASL_Detection/Tensorflow/workspace/images/collectedimages/H/H.71e81660-c9bc-11ed-8ceb-38f9d362366a.jpg -> Annotation:/Users/olivia/Dropbox/Coding/Python/ML/cnn/asl-project/ASL_Detection/Tensorflow/workspace/images/collectedimages/H/H.71e81660-c9bc-11ed-8ceb-38f9d362366a.xml\n",
      "Image:/Users/olivia/Dropbox/Coding/Python/ML/cnn/asl-project/ASL_Detection/Tensorflow/workspace/images/collectedimages/H/H.76c4d8a8-c9bc-11ed-8ceb-38f9d362366a.jpg -> Annotation:/Users/olivia/Dropbox/Coding/Python/ML/cnn/asl-project/ASL_Detection/Tensorflow/workspace/images/collectedimages/H/H.76c4d8a8-c9bc-11ed-8ceb-38f9d362366a.xml\n",
      "Image:/Users/olivia/Dropbox/Coding/Python/ML/cnn/asl-project/ASL_Detection/Tensorflow/workspace/images/collectedimages/H/H.77fc3130-c9bc-11ed-8ceb-38f9d362366a.jpg -> Annotation:/Users/olivia/Dropbox/Coding/Python/ML/cnn/asl-project/ASL_Detection/Tensorflow/workspace/images/collectedimages/H/H.77fc3130-c9bc-11ed-8ceb-38f9d362366a.xml\n",
      "Image:/Users/olivia/Dropbox/Coding/Python/ML/cnn/asl-project/ASL_Detection/Tensorflow/workspace/images/collectedimages/H/H.731f18c6-c9bc-11ed-8ceb-38f9d362366a.jpg -> Annotation:/Users/olivia/Dropbox/Coding/Python/ML/cnn/asl-project/ASL_Detection/Tensorflow/workspace/images/collectedimages/H/H.731f18c6-c9bc-11ed-8ceb-38f9d362366a.xml\n",
      "Image:/Users/olivia/Dropbox/Coding/Python/ML/cnn/asl-project/ASL_Detection/Tensorflow/workspace/images/collectedimages/H/H.758dfa6e-c9bc-11ed-8ceb-38f9d362366a.jpg -> Annotation:/Users/olivia/Dropbox/Coding/Python/ML/cnn/asl-project/ASL_Detection/Tensorflow/workspace/images/collectedimages/H/H.758dfa6e-c9bc-11ed-8ceb-38f9d362366a.xml\n",
      "Image:/Users/olivia/Dropbox/Coding/Python/ML/cnn/asl-project/ASL_Detection/Tensorflow/workspace/images/collectedimages/H/H.758dfa6e-c9bc-11ed-8ceb-38f9d362366a.jpg -> Annotation:/Users/olivia/Dropbox/Coding/Python/ML/cnn/asl-project/ASL_Detection/Tensorflow/workspace/images/collectedimages/H/H.758dfa6e-c9bc-11ed-8ceb-38f9d362366a.xml\n",
      "Image:/Users/olivia/Dropbox/Coding/Python/ML/cnn/asl-project/ASL_Detection/Tensorflow/workspace/images/collectedimages/H/H.7456ae7a-c9bc-11ed-8ceb-38f9d362366a.jpg -> Annotation:/Users/olivia/Dropbox/Coding/Python/ML/cnn/asl-project/ASL_Detection/Tensorflow/workspace/images/collectedimages/H/H.7456ae7a-c9bc-11ed-8ceb-38f9d362366a.xml\n",
      "Image:/Users/olivia/Dropbox/Coding/Python/ML/cnn/asl-project/ASL_Detection/Tensorflow/workspace/images/collectedimages/G/G.5efd78ce-c9bc-11ed-8ceb-38f9d362366a.jpg -> Annotation:/Users/olivia/Dropbox/Coding/Python/ML/cnn/asl-project/ASL_Detection/Tensorflow/workspace/images/collectedimages/G/G.5efd78ce-c9bc-11ed-8ceb-38f9d362366a.xml\n",
      "Image:/Users/olivia/Dropbox/Coding/Python/ML/cnn/asl-project/ASL_Detection/Tensorflow/workspace/images/collectedimages/G/G.7bea539a-ca51-11ed-8ceb-38f9d362366a.jpg -> Annotation:/Users/olivia/Dropbox/Coding/Python/ML/cnn/asl-project/ASL_Detection/Tensorflow/workspace/images/collectedimages/G/G.7bea539a-ca51-11ed-8ceb-38f9d362366a.xml\n",
      "Image:/Users/olivia/Dropbox/Coding/Python/ML/cnn/asl-project/ASL_Detection/Tensorflow/workspace/images/collectedimages/G/G.62a2dee2-c9bc-11ed-8ceb-38f9d362366a.jpg -> Annotation:/Users/olivia/Dropbox/Coding/Python/ML/cnn/asl-project/ASL_Detection/Tensorflow/workspace/images/collectedimages/G/G.62a2dee2-c9bc-11ed-8ceb-38f9d362366a.xml\n",
      "Image:/Users/olivia/Dropbox/Coding/Python/ML/cnn/asl-project/ASL_Detection/Tensorflow/workspace/images/collectedimages/G/G.63df943a-c9bc-11ed-8ceb-38f9d362366a.jpg -> Annotation:/Users/olivia/Dropbox/Coding/Python/ML/cnn/asl-project/ASL_Detection/Tensorflow/workspace/images/collectedimages/G/G.63df943a-c9bc-11ed-8ceb-38f9d362366a.xml\n",
      "Image:/Users/olivia/Dropbox/Coding/Python/ML/cnn/asl-project/ASL_Detection/Tensorflow/workspace/images/collectedimages/G/G.68cb1a96-c9bc-11ed-8ceb-38f9d362366a.jpg -> Annotation:/Users/olivia/Dropbox/Coding/Python/ML/cnn/asl-project/ASL_Detection/Tensorflow/workspace/images/collectedimages/G/G.68cb1a96-c9bc-11ed-8ceb-38f9d362366a.xml\n",
      "Image:/Users/olivia/Dropbox/Coding/Python/ML/cnn/asl-project/ASL_Detection/Tensorflow/workspace/images/collectedimages/G/G.616b3164-c9bc-11ed-8ceb-38f9d362366a.jpg -> Annotation:/Users/olivia/Dropbox/Coding/Python/ML/cnn/asl-project/ASL_Detection/Tensorflow/workspace/images/collectedimages/G/G.616b3164-c9bc-11ed-8ceb-38f9d362366a.xml\n",
      "Cancel creation.\n",
      "Image:/Users/olivia/Dropbox/Coding/Python/ML/cnn/asl-project/ASL_Detection/Tensorflow/workspace/images/collectedimages/G/G.651a5830-c9bc-11ed-8ceb-38f9d362366a.jpg -> Annotation:/Users/olivia/Dropbox/Coding/Python/ML/cnn/asl-project/ASL_Detection/Tensorflow/workspace/images/collectedimages/G/G.651a5830-c9bc-11ed-8ceb-38f9d362366a.xml\n",
      "Image:/Users/olivia/Dropbox/Coding/Python/ML/cnn/asl-project/ASL_Detection/Tensorflow/workspace/images/collectedimages/G/G.6792abda-c9bc-11ed-8ceb-38f9d362366a.jpg -> Annotation:/Users/olivia/Dropbox/Coding/Python/ML/cnn/asl-project/ASL_Detection/Tensorflow/workspace/images/collectedimages/G/G.6792abda-c9bc-11ed-8ceb-38f9d362366a.xml\n",
      "Image:/Users/olivia/Dropbox/Coding/Python/ML/cnn/asl-project/ASL_Detection/Tensorflow/workspace/images/collectedimages/G/G.60339c96-c9bc-11ed-8ceb-38f9d362366a.jpg -> Annotation:/Users/olivia/Dropbox/Coding/Python/ML/cnn/asl-project/ASL_Detection/Tensorflow/workspace/images/collectedimages/G/G.60339c96-c9bc-11ed-8ceb-38f9d362366a.xml\n",
      "Image:/Users/olivia/Dropbox/Coding/Python/ML/cnn/asl-project/ASL_Detection/Tensorflow/workspace/images/collectedimages/G/G.66534ffe-c9bc-11ed-8ceb-38f9d362366a.jpg -> Annotation:/Users/olivia/Dropbox/Coding/Python/ML/cnn/asl-project/ASL_Detection/Tensorflow/workspace/images/collectedimages/G/G.66534ffe-c9bc-11ed-8ceb-38f9d362366a.xml\n"
     ]
    },
    {
     "name": "stdout",
     "output_type": "stream",
     "text": [
      "Image:/Users/olivia/Dropbox/Coding/Python/ML/cnn/asl-project/ASL_Detection/Tensorflow/workspace/images/collectedimages/F/F.4e73d6d8-c9bc-11ed-8ceb-38f9d362366a.jpg -> Annotation:/Users/olivia/Dropbox/Coding/Python/ML/cnn/asl-project/ASL_Detection/Tensorflow/workspace/images/collectedimages/F/F.4e73d6d8-c9bc-11ed-8ceb-38f9d362366a.xml\n",
      "Image:/Users/olivia/Dropbox/Coding/Python/ML/cnn/asl-project/ASL_Detection/Tensorflow/workspace/images/collectedimages/F/F.4fab1bec-c9bc-11ed-8ceb-38f9d362366a.jpg -> Annotation:/Users/olivia/Dropbox/Coding/Python/ML/cnn/asl-project/ASL_Detection/Tensorflow/workspace/images/collectedimages/F/F.4fab1bec-c9bc-11ed-8ceb-38f9d362366a.xml\n",
      "Image:/Users/olivia/Dropbox/Coding/Python/ML/cnn/asl-project/ASL_Detection/Tensorflow/workspace/images/collectedimages/F/F.50e4b9d2-c9bc-11ed-8ceb-38f9d362366a.jpg -> Annotation:/Users/olivia/Dropbox/Coding/Python/ML/cnn/asl-project/ASL_Detection/Tensorflow/workspace/images/collectedimages/F/F.50e4b9d2-c9bc-11ed-8ceb-38f9d362366a.xml\n",
      "Image:/Users/olivia/Dropbox/Coding/Python/ML/cnn/asl-project/ASL_Detection/Tensorflow/workspace/images/collectedimages/F/F.521ffff0-c9bc-11ed-8ceb-38f9d362366a.jpg -> Annotation:/Users/olivia/Dropbox/Coding/Python/ML/cnn/asl-project/ASL_Detection/Tensorflow/workspace/images/collectedimages/F/F.521ffff0-c9bc-11ed-8ceb-38f9d362366a.xml\n",
      "Image:/Users/olivia/Dropbox/Coding/Python/ML/cnn/asl-project/ASL_Detection/Tensorflow/workspace/images/collectedimages/F/F.570be984-c9bc-11ed-8ceb-38f9d362366a.jpg -> Annotation:/Users/olivia/Dropbox/Coding/Python/ML/cnn/asl-project/ASL_Detection/Tensorflow/workspace/images/collectedimages/F/F.570be984-c9bc-11ed-8ceb-38f9d362366a.xml\n",
      "Image:/Users/olivia/Dropbox/Coding/Python/ML/cnn/asl-project/ASL_Detection/Tensorflow/workspace/images/collectedimages/F/F.5358b556-c9bc-11ed-8ceb-38f9d362366a.jpg -> Annotation:/Users/olivia/Dropbox/Coding/Python/ML/cnn/asl-project/ASL_Detection/Tensorflow/workspace/images/collectedimages/F/F.5358b556-c9bc-11ed-8ceb-38f9d362366a.xml\n",
      "ESC press\n",
      "Cancel creation.\n",
      "Image:/Users/olivia/Dropbox/Coding/Python/ML/cnn/asl-project/ASL_Detection/Tensorflow/workspace/images/collectedimages/F/F.54953b56-c9bc-11ed-8ceb-38f9d362366a.jpg -> Annotation:/Users/olivia/Dropbox/Coding/Python/ML/cnn/asl-project/ASL_Detection/Tensorflow/workspace/images/collectedimages/F/F.54953b56-c9bc-11ed-8ceb-38f9d362366a.xml\n",
      "Image:/Users/olivia/Dropbox/Coding/Python/ML/cnn/asl-project/ASL_Detection/Tensorflow/workspace/images/collectedimages/F/F.59859b60-c9bc-11ed-8ceb-38f9d362366a.jpg -> Annotation:/Users/olivia/Dropbox/Coding/Python/ML/cnn/asl-project/ASL_Detection/Tensorflow/workspace/images/collectedimages/F/F.59859b60-c9bc-11ed-8ceb-38f9d362366a.xml\n",
      "Image:/Users/olivia/Dropbox/Coding/Python/ML/cnn/asl-project/ASL_Detection/Tensorflow/workspace/images/collectedimages/F/F.5848553a-c9bc-11ed-8ceb-38f9d362366a.jpg -> Annotation:/Users/olivia/Dropbox/Coding/Python/ML/cnn/asl-project/ASL_Detection/Tensorflow/workspace/images/collectedimages/F/F.5848553a-c9bc-11ed-8ceb-38f9d362366a.xml\n",
      "Image:/Users/olivia/Dropbox/Coding/Python/ML/cnn/asl-project/ASL_Detection/Tensorflow/workspace/images/collectedimages/E/E.3f3646e2-c9bc-11ed-8ceb-38f9d362366a.jpg -> Annotation:/Users/olivia/Dropbox/Coding/Python/ML/cnn/asl-project/ASL_Detection/Tensorflow/workspace/images/collectedimages/E/E.3f3646e2-c9bc-11ed-8ceb-38f9d362366a.xml\n",
      "Image:/Users/olivia/Dropbox/Coding/Python/ML/cnn/asl-project/ASL_Detection/Tensorflow/workspace/images/collectedimages/E/E.4a35abaa-c9bc-11ed-8ceb-38f9d362366a.jpg -> Annotation:/Users/olivia/Dropbox/Coding/Python/ML/cnn/asl-project/ASL_Detection/Tensorflow/workspace/images/collectedimages/E/E.4a35abaa-c9bc-11ed-8ceb-38f9d362366a.xml\n",
      "Image:/Users/olivia/Dropbox/Coding/Python/ML/cnn/asl-project/ASL_Detection/Tensorflow/workspace/images/collectedimages/E/E.41a604a8-c9bc-11ed-8ceb-38f9d362366a.jpg -> Annotation:/Users/olivia/Dropbox/Coding/Python/ML/cnn/asl-project/ASL_Detection/Tensorflow/workspace/images/collectedimages/E/E.41a604a8-c9bc-11ed-8ceb-38f9d362366a.xml\n",
      "Image:/Users/olivia/Dropbox/Coding/Python/ML/cnn/asl-project/ASL_Detection/Tensorflow/workspace/images/collectedimages/E/E.42e26b90-c9bc-11ed-8ceb-38f9d362366a.jpg -> Annotation:/Users/olivia/Dropbox/Coding/Python/ML/cnn/asl-project/ASL_Detection/Tensorflow/workspace/images/collectedimages/E/E.42e26b90-c9bc-11ed-8ceb-38f9d362366a.xml\n",
      "Image:/Users/olivia/Dropbox/Coding/Python/ML/cnn/asl-project/ASL_Detection/Tensorflow/workspace/images/collectedimages/E/E.47c11026-c9bc-11ed-8ceb-38f9d362366a.jpg -> Annotation:/Users/olivia/Dropbox/Coding/Python/ML/cnn/asl-project/ASL_Detection/Tensorflow/workspace/images/collectedimages/E/E.47c11026-c9bc-11ed-8ceb-38f9d362366a.xml\n",
      "Image:/Users/olivia/Dropbox/Coding/Python/ML/cnn/asl-project/ASL_Detection/Tensorflow/workspace/images/collectedimages/E/E.48fe8e64-c9bc-11ed-8ceb-38f9d362366a.jpg -> Annotation:/Users/olivia/Dropbox/Coding/Python/ML/cnn/asl-project/ASL_Detection/Tensorflow/workspace/images/collectedimages/E/E.48fe8e64-c9bc-11ed-8ceb-38f9d362366a.xml\n",
      "Image:/Users/olivia/Dropbox/Coding/Python/ML/cnn/asl-project/ASL_Detection/Tensorflow/workspace/images/collectedimages/E/E.406f5602-c9bc-11ed-8ceb-38f9d362366a.jpg -> Annotation:/Users/olivia/Dropbox/Coding/Python/ML/cnn/asl-project/ASL_Detection/Tensorflow/workspace/images/collectedimages/E/E.406f5602-c9bc-11ed-8ceb-38f9d362366a.xml\n",
      "Image:/Users/olivia/Dropbox/Coding/Python/ML/cnn/asl-project/ASL_Detection/Tensorflow/workspace/images/collectedimages/E/E.4419b392-c9bc-11ed-8ceb-38f9d362366a.jpg -> Annotation:/Users/olivia/Dropbox/Coding/Python/ML/cnn/asl-project/ASL_Detection/Tensorflow/workspace/images/collectedimages/E/E.4419b392-c9bc-11ed-8ceb-38f9d362366a.xml\n",
      "Image:/Users/olivia/Dropbox/Coding/Python/ML/cnn/asl-project/ASL_Detection/Tensorflow/workspace/images/collectedimages/E/E.4689d9b8-c9bc-11ed-8ceb-38f9d362366a.jpg -> Annotation:/Users/olivia/Dropbox/Coding/Python/ML/cnn/asl-project/ASL_Detection/Tensorflow/workspace/images/collectedimages/E/E.4689d9b8-c9bc-11ed-8ceb-38f9d362366a.xml\n",
      "Image:/Users/olivia/Dropbox/Coding/Python/ML/cnn/asl-project/ASL_Detection/Tensorflow/workspace/images/collectedimages/E/E.455103a0-c9bc-11ed-8ceb-38f9d362366a.jpg -> Annotation:/Users/olivia/Dropbox/Coding/Python/ML/cnn/asl-project/ASL_Detection/Tensorflow/workspace/images/collectedimages/E/E.455103a0-c9bc-11ed-8ceb-38f9d362366a.xml\n",
      "Image:/Users/olivia/Dropbox/Coding/Python/ML/cnn/asl-project/ASL_Detection/Tensorflow/workspace/images/collectedimages/D/D.2fedc43a-c9bc-11ed-8ceb-38f9d362366a.jpg -> Annotation:/Users/olivia/Dropbox/Coding/Python/ML/cnn/asl-project/ASL_Detection/Tensorflow/workspace/images/collectedimages/D/D.2fedc43a-c9bc-11ed-8ceb-38f9d362366a.xml\n",
      "Image:/Users/olivia/Dropbox/Coding/Python/ML/cnn/asl-project/ASL_Detection/Tensorflow/workspace/images/collectedimages/D/D.3af1e550-c9bc-11ed-8ceb-38f9d362366a.jpg -> Annotation:/Users/olivia/Dropbox/Coding/Python/ML/cnn/asl-project/ASL_Detection/Tensorflow/workspace/images/collectedimages/D/D.3af1e550-c9bc-11ed-8ceb-38f9d362366a.xml\n",
      "Image:/Users/olivia/Dropbox/Coding/Python/ML/cnn/asl-project/ASL_Detection/Tensorflow/workspace/images/collectedimages/D/D.34d83ad4-c9bc-11ed-8ceb-38f9d362366a.jpg -> Annotation:/Users/olivia/Dropbox/Coding/Python/ML/cnn/asl-project/ASL_Detection/Tensorflow/workspace/images/collectedimages/D/D.34d83ad4-c9bc-11ed-8ceb-38f9d362366a.xml\n",
      "Image:/Users/olivia/Dropbox/Coding/Python/ML/cnn/asl-project/ASL_Detection/Tensorflow/workspace/images/collectedimages/D/D.39b96e2e-c9bc-11ed-8ceb-38f9d362366a.jpg -> Annotation:/Users/olivia/Dropbox/Coding/Python/ML/cnn/asl-project/ASL_Detection/Tensorflow/workspace/images/collectedimages/D/D.39b96e2e-c9bc-11ed-8ceb-38f9d362366a.xml\n",
      "Image:/Users/olivia/Dropbox/Coding/Python/ML/cnn/asl-project/ASL_Detection/Tensorflow/workspace/images/collectedimages/D/D.312a0ff2-c9bc-11ed-8ceb-38f9d362366a.jpg -> Annotation:/Users/olivia/Dropbox/Coding/Python/ML/cnn/asl-project/ASL_Detection/Tensorflow/workspace/images/collectedimages/D/D.312a0ff2-c9bc-11ed-8ceb-38f9d362366a.xml\n",
      "Image:/Users/olivia/Dropbox/Coding/Python/ML/cnn/asl-project/ASL_Detection/Tensorflow/workspace/images/collectedimages/D/D.339f5990-c9bc-11ed-8ceb-38f9d362366a.jpg -> Annotation:/Users/olivia/Dropbox/Coding/Python/ML/cnn/asl-project/ASL_Detection/Tensorflow/workspace/images/collectedimages/D/D.339f5990-c9bc-11ed-8ceb-38f9d362366a.xml\n"
     ]
    },
    {
     "name": "stdout",
     "output_type": "stream",
     "text": [
      "Image:/Users/olivia/Dropbox/Coding/Python/ML/cnn/asl-project/ASL_Detection/Tensorflow/workspace/images/collectedimages/D/D.374be0d6-c9bc-11ed-8ceb-38f9d362366a.jpg -> Annotation:/Users/olivia/Dropbox/Coding/Python/ML/cnn/asl-project/ASL_Detection/Tensorflow/workspace/images/collectedimages/D/D.374be0d6-c9bc-11ed-8ceb-38f9d362366a.xml\n",
      "Image:/Users/olivia/Dropbox/Coding/Python/ML/cnn/asl-project/ASL_Detection/Tensorflow/workspace/images/collectedimages/D/D.3613d908-c9bc-11ed-8ceb-38f9d362366a.jpg -> Annotation:/Users/olivia/Dropbox/Coding/Python/ML/cnn/asl-project/ASL_Detection/Tensorflow/workspace/images/collectedimages/D/D.3613d908-c9bc-11ed-8ceb-38f9d362366a.xml\n",
      "Image:/Users/olivia/Dropbox/Coding/Python/ML/cnn/asl-project/ASL_Detection/Tensorflow/workspace/images/collectedimages/D/D.3882c960-c9bc-11ed-8ceb-38f9d362366a.jpg -> Annotation:/Users/olivia/Dropbox/Coding/Python/ML/cnn/asl-project/ASL_Detection/Tensorflow/workspace/images/collectedimages/D/D.3882c960-c9bc-11ed-8ceb-38f9d362366a.xml\n",
      "Image:/Users/olivia/Dropbox/Coding/Python/ML/cnn/asl-project/ASL_Detection/Tensorflow/workspace/images/collectedimages/D/D.32676b9e-c9bc-11ed-8ceb-38f9d362366a.jpg -> Annotation:/Users/olivia/Dropbox/Coding/Python/ML/cnn/asl-project/ASL_Detection/Tensorflow/workspace/images/collectedimages/D/D.32676b9e-c9bc-11ed-8ceb-38f9d362366a.xml\n",
      "Image:/Users/olivia/Dropbox/Coding/Python/ML/cnn/asl-project/ASL_Detection/Tensorflow/workspace/images/collectedimages/C/C.2a6fd246-c9bc-11ed-8ceb-38f9d362366a.jpg -> Annotation:/Users/olivia/Dropbox/Coding/Python/ML/cnn/asl-project/ASL_Detection/Tensorflow/workspace/images/collectedimages/C/C.2a6fd246-c9bc-11ed-8ceb-38f9d362366a.xml\n",
      "Image:/Users/olivia/Dropbox/Coding/Python/ML/cnn/asl-project/ASL_Detection/Tensorflow/workspace/images/collectedimages/C/C.2ba9520e-c9bc-11ed-8ceb-38f9d362366a.jpg -> Annotation:/Users/olivia/Dropbox/Coding/Python/ML/cnn/asl-project/ASL_Detection/Tensorflow/workspace/images/collectedimages/C/C.2ba9520e-c9bc-11ed-8ceb-38f9d362366a.xml\n",
      "Image:/Users/olivia/Dropbox/Coding/Python/ML/cnn/asl-project/ASL_Detection/Tensorflow/workspace/images/collectedimages/C/C.20a8a152-c9bc-11ed-8ceb-38f9d362366a.jpg -> Annotation:/Users/olivia/Dropbox/Coding/Python/ML/cnn/asl-project/ASL_Detection/Tensorflow/workspace/images/collectedimages/C/C.20a8a152-c9bc-11ed-8ceb-38f9d362366a.xml\n",
      "Image:/Users/olivia/Dropbox/Coding/Python/ML/cnn/asl-project/ASL_Detection/Tensorflow/workspace/images/collectedimages/C/C.21e0f93e-c9bc-11ed-8ceb-38f9d362366a.jpg -> Annotation:/Users/olivia/Dropbox/Coding/Python/ML/cnn/asl-project/ASL_Detection/Tensorflow/workspace/images/collectedimages/C/C.21e0f93e-c9bc-11ed-8ceb-38f9d362366a.xml\n",
      "Image:/Users/olivia/Dropbox/Coding/Python/ML/cnn/asl-project/ASL_Detection/Tensorflow/workspace/images/collectedimages/C/C.26ca38ca-c9bc-11ed-8ceb-38f9d362366a.jpg -> Annotation:/Users/olivia/Dropbox/Coding/Python/ML/cnn/asl-project/ASL_Detection/Tensorflow/workspace/images/collectedimages/C/C.26ca38ca-c9bc-11ed-8ceb-38f9d362366a.xml\n",
      "Image:/Users/olivia/Dropbox/Coding/Python/ML/cnn/asl-project/ASL_Detection/Tensorflow/workspace/images/collectedimages/C/C.231ccdfa-c9bc-11ed-8ceb-38f9d362366a.jpg -> Annotation:/Users/olivia/Dropbox/Coding/Python/ML/cnn/asl-project/ASL_Detection/Tensorflow/workspace/images/collectedimages/C/C.231ccdfa-c9bc-11ed-8ceb-38f9d362366a.xml\n",
      "Image:/Users/olivia/Dropbox/Coding/Python/ML/cnn/asl-project/ASL_Detection/Tensorflow/workspace/images/collectedimages/C/C.258cbe6a-c9bc-11ed-8ceb-38f9d362366a.jpg -> Annotation:/Users/olivia/Dropbox/Coding/Python/ML/cnn/asl-project/ASL_Detection/Tensorflow/workspace/images/collectedimages/C/C.258cbe6a-c9bc-11ed-8ceb-38f9d362366a.xml\n",
      "Image:/Users/olivia/Dropbox/Coding/Python/ML/cnn/asl-project/ASL_Detection/Tensorflow/workspace/images/collectedimages/C/C.2937ca5a-c9bc-11ed-8ceb-38f9d362366a.jpg -> Annotation:/Users/olivia/Dropbox/Coding/Python/ML/cnn/asl-project/ASL_Detection/Tensorflow/workspace/images/collectedimages/C/C.2937ca5a-c9bc-11ed-8ceb-38f9d362366a.xml\n",
      "Image:/Users/olivia/Dropbox/Coding/Python/ML/cnn/asl-project/ASL_Detection/Tensorflow/workspace/images/collectedimages/C/C.245520c8-c9bc-11ed-8ceb-38f9d362366a.jpg -> Annotation:/Users/olivia/Dropbox/Coding/Python/ML/cnn/asl-project/ASL_Detection/Tensorflow/workspace/images/collectedimages/C/C.245520c8-c9bc-11ed-8ceb-38f9d362366a.xml\n",
      "Image:/Users/olivia/Dropbox/Coding/Python/ML/cnn/asl-project/ASL_Detection/Tensorflow/workspace/images/collectedimages/C/C.280165f6-c9bc-11ed-8ceb-38f9d362366a.jpg -> Annotation:/Users/olivia/Dropbox/Coding/Python/ML/cnn/asl-project/ASL_Detection/Tensorflow/workspace/images/collectedimages/C/C.280165f6-c9bc-11ed-8ceb-38f9d362366a.xml\n",
      "Image:/Users/olivia/Dropbox/Coding/Python/ML/cnn/asl-project/ASL_Detection/Tensorflow/workspace/images/collectedimages/B/B.1b3236f2-c9bc-11ed-8ceb-38f9d362366a.jpg -> Annotation:/Users/olivia/Dropbox/Coding/Python/ML/cnn/asl-project/ASL_Detection/Tensorflow/workspace/images/collectedimages/B/B.1b3236f2-c9bc-11ed-8ceb-38f9d362366a.xml\n",
      "Image:/Users/olivia/Dropbox/Coding/Python/ML/cnn/asl-project/ASL_Detection/Tensorflow/workspace/images/collectedimages/B/B.1c6a0662-c9bc-11ed-8ceb-38f9d362366a.jpg -> Annotation:/Users/olivia/Dropbox/Coding/Python/ML/cnn/asl-project/ASL_Detection/Tensorflow/workspace/images/collectedimages/B/B.1c6a0662-c9bc-11ed-8ceb-38f9d362366a.xml\n",
      "Image:/Users/olivia/Dropbox/Coding/Python/ML/cnn/asl-project/ASL_Detection/Tensorflow/workspace/images/collectedimages/B/B.12a240ea-c9bc-11ed-8ceb-38f9d362366a.jpg -> Annotation:/Users/olivia/Dropbox/Coding/Python/ML/cnn/asl-project/ASL_Detection/Tensorflow/workspace/images/collectedimages/B/B.12a240ea-c9bc-11ed-8ceb-38f9d362366a.xml\n",
      "Image:/Users/olivia/Dropbox/Coding/Python/ML/cnn/asl-project/ASL_Detection/Tensorflow/workspace/images/collectedimages/B/B.13d923ca-c9bc-11ed-8ceb-38f9d362366a.jpg -> Annotation:/Users/olivia/Dropbox/Coding/Python/ML/cnn/asl-project/ASL_Detection/Tensorflow/workspace/images/collectedimages/B/B.13d923ca-c9bc-11ed-8ceb-38f9d362366a.xml\n",
      "Image:/Users/olivia/Dropbox/Coding/Python/ML/cnn/asl-project/ASL_Detection/Tensorflow/workspace/images/collectedimages/B/B.18be6e5e-c9bc-11ed-8ceb-38f9d362366a.jpg -> Annotation:/Users/olivia/Dropbox/Coding/Python/ML/cnn/asl-project/ASL_Detection/Tensorflow/workspace/images/collectedimages/B/B.18be6e5e-c9bc-11ed-8ceb-38f9d362366a.xml\n",
      "Image:/Users/olivia/Dropbox/Coding/Python/ML/cnn/asl-project/ASL_Detection/Tensorflow/workspace/images/collectedimages/B/B.19f57f4c-c9bc-11ed-8ceb-38f9d362366a.jpg -> Annotation:/Users/olivia/Dropbox/Coding/Python/ML/cnn/asl-project/ASL_Detection/Tensorflow/workspace/images/collectedimages/B/B.19f57f4c-c9bc-11ed-8ceb-38f9d362366a.xml\n",
      "Image:/Users/olivia/Dropbox/Coding/Python/ML/cnn/asl-project/ASL_Detection/Tensorflow/workspace/images/collectedimages/B/B.116a501e-c9bc-11ed-8ceb-38f9d362366a.jpg -> Annotation:/Users/olivia/Dropbox/Coding/Python/ML/cnn/asl-project/ASL_Detection/Tensorflow/workspace/images/collectedimages/B/B.116a501e-c9bc-11ed-8ceb-38f9d362366a.xml\n",
      "Image:/Users/olivia/Dropbox/Coding/Python/ML/cnn/asl-project/ASL_Detection/Tensorflow/workspace/images/collectedimages/B/B.164e1b7e-c9bc-11ed-8ceb-38f9d362366a.jpg -> Annotation:/Users/olivia/Dropbox/Coding/Python/ML/cnn/asl-project/ASL_Detection/Tensorflow/workspace/images/collectedimages/B/B.164e1b7e-c9bc-11ed-8ceb-38f9d362366a.xml\n",
      "Image:/Users/olivia/Dropbox/Coding/Python/ML/cnn/asl-project/ASL_Detection/Tensorflow/workspace/images/collectedimages/B/B.17850b42-c9bc-11ed-8ceb-38f9d362366a.jpg -> Annotation:/Users/olivia/Dropbox/Coding/Python/ML/cnn/asl-project/ASL_Detection/Tensorflow/workspace/images/collectedimages/B/B.17850b42-c9bc-11ed-8ceb-38f9d362366a.xml\n",
      "Image:/Users/olivia/Dropbox/Coding/Python/ML/cnn/asl-project/ASL_Detection/Tensorflow/workspace/images/collectedimages/B/B.151225fc-c9bc-11ed-8ceb-38f9d362366a.jpg -> Annotation:/Users/olivia/Dropbox/Coding/Python/ML/cnn/asl-project/ASL_Detection/Tensorflow/workspace/images/collectedimages/B/B.151225fc-c9bc-11ed-8ceb-38f9d362366a.xml\n",
      "Image:/Users/olivia/Dropbox/Coding/Python/ML/cnn/asl-project/ASL_Detection/Tensorflow/workspace/images/collectedimages/A/A.0ab08982-c9bc-11ed-8ceb-38f9d362366a.jpg -> Annotation:/Users/olivia/Dropbox/Coding/Python/ML/cnn/asl-project/ASL_Detection/Tensorflow/workspace/images/collectedimages/A/A.0ab08982-c9bc-11ed-8ceb-38f9d362366a.xml\n"
     ]
    },
    {
     "name": "stdout",
     "output_type": "stream",
     "text": [
      "Image:/Users/olivia/Dropbox/Coding/Python/ML/cnn/asl-project/ASL_Detection/Tensorflow/workspace/images/collectedimages/A/A.0bf1db52-c9bc-11ed-8ceb-38f9d362366a.jpg -> Annotation:/Users/olivia/Dropbox/Coding/Python/ML/cnn/asl-project/ASL_Detection/Tensorflow/workspace/images/collectedimages/A/A.0bf1db52-c9bc-11ed-8ceb-38f9d362366a.xml\n",
      "Image:/Users/olivia/Dropbox/Coding/Python/ML/cnn/asl-project/ASL_Detection/Tensorflow/workspace/images/collectedimages/A/A.0d2b5ebc-c9bc-11ed-8ceb-38f9d362366a.jpg -> Annotation:/Users/olivia/Dropbox/Coding/Python/ML/cnn/asl-project/ASL_Detection/Tensorflow/workspace/images/collectedimages/A/A.0d2b5ebc-c9bc-11ed-8ceb-38f9d362366a.xml\n",
      "Image:/Users/olivia/Dropbox/Coding/Python/ML/cnn/asl-project/ASL_Detection/Tensorflow/workspace/images/collectedimages/A/A.05c70d56-c9bc-11ed-8ceb-38f9d362366a.jpg -> Annotation:/Users/olivia/Dropbox/Coding/Python/ML/cnn/asl-project/ASL_Detection/Tensorflow/workspace/images/collectedimages/A/A.05c70d56-c9bc-11ed-8ceb-38f9d362366a.xml\n",
      "Image:/Users/olivia/Dropbox/Coding/Python/ML/cnn/asl-project/ASL_Detection/Tensorflow/workspace/images/collectedimages/A/A.9cb60574-c9bb-11ed-8229-38f9d362366a.jpg -> Annotation:/Users/olivia/Dropbox/Coding/Python/ML/cnn/asl-project/ASL_Detection/Tensorflow/workspace/images/collectedimages/A/A.9cb60574-c9bb-11ed-8229-38f9d362366a.xml\n",
      "Image:/Users/olivia/Dropbox/Coding/Python/ML/cnn/asl-project/ASL_Detection/Tensorflow/workspace/images/collectedimages/A/A.9df56f7e-c9bb-11ed-8229-38f9d362366a.jpg -> Annotation:/Users/olivia/Dropbox/Coding/Python/ML/cnn/asl-project/ASL_Detection/Tensorflow/workspace/images/collectedimages/A/A.9df56f7e-c9bb-11ed-8229-38f9d362366a.xml\n",
      "Image:/Users/olivia/Dropbox/Coding/Python/ML/cnn/asl-project/ASL_Detection/Tensorflow/workspace/images/collectedimages/A/A.9f2d4ede-c9bb-11ed-8229-38f9d362366a.jpg -> Annotation:/Users/olivia/Dropbox/Coding/Python/ML/cnn/asl-project/ASL_Detection/Tensorflow/workspace/images/collectedimages/A/A.9f2d4ede-c9bb-11ed-8229-38f9d362366a.xml\n",
      "Image:/Users/olivia/Dropbox/Coding/Python/ML/cnn/asl-project/ASL_Detection/Tensorflow/workspace/images/collectedimages/A/A.048fab3c-c9bc-11ed-8ceb-38f9d362366a.jpg -> Annotation:/Users/olivia/Dropbox/Coding/Python/ML/cnn/asl-project/ASL_Detection/Tensorflow/workspace/images/collectedimages/A/A.048fab3c-c9bc-11ed-8ceb-38f9d362366a.xml\n",
      "Image:/Users/olivia/Dropbox/Coding/Python/ML/cnn/asl-project/ASL_Detection/Tensorflow/workspace/images/collectedimages/A/A.083ad0e0-c9bc-11ed-8ceb-38f9d362366a.jpg -> Annotation:/Users/olivia/Dropbox/Coding/Python/ML/cnn/asl-project/ASL_Detection/Tensorflow/workspace/images/collectedimages/A/A.083ad0e0-c9bc-11ed-8ceb-38f9d362366a.xml\n"
     ]
    }
   ],
   "source": [
    "# Open Labelimg package and start labeling images! The best part of an ML pipeline! :D\n",
    "!cd {LABELIMG_PATH} && python labelImg.py"
   ]
  },
  {
   "cell_type": "markdown",
   "metadata": {},
   "source": [
    "# 6. Move them into a Training and Testing Partition"
   ]
  },
  {
   "cell_type": "markdown",
   "metadata": {},
   "source": [
    "# OPTIONAL - 7. Compress them for Colab Training"
   ]
  },
  {
   "cell_type": "code",
   "execution_count": 20,
   "metadata": {},
   "outputs": [],
   "source": [
    "TRAIN_PATH = os.path.join('Tensorflow', 'workspace', 'images', 'train')\n",
    "TEST_PATH = os.path.join('Tensorflow', 'workspace', 'images', 'test')\n",
    "ARCHIVE_PATH = os.path.join('Tensorflow', 'workspace', 'images', 'archive.tar.gz')"
   ]
  },
  {
   "cell_type": "code",
   "execution_count": 21,
   "metadata": {},
   "outputs": [],
   "source": [
    "!tar -czf {ARCHIVE_PATH} {TRAIN_PATH} {TEST_PATH}"
   ]
  },
  {
   "cell_type": "code",
   "execution_count": null,
   "metadata": {},
   "outputs": [],
   "source": []
  }
 ],
 "metadata": {
  "kernelspec": {
   "display_name": "tfod",
   "language": "python",
   "name": "tfod"
  },
  "language_info": {
   "codemirror_mode": {
    "name": "ipython",
    "version": 3
   },
   "file_extension": ".py",
   "mimetype": "text/x-python",
   "name": "python",
   "nbconvert_exporter": "python",
   "pygments_lexer": "ipython3",
   "version": "3.9.13"
  }
 },
 "nbformat": 4,
 "nbformat_minor": 2
}
