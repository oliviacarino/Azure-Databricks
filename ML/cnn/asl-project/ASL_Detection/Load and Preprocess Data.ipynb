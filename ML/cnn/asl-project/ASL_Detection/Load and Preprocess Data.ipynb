{
 "cells": [
  {
   "cell_type": "code",
   "execution_count": 1,
   "id": "ba900ce3",
   "metadata": {},
   "outputs": [
    {
     "name": "stdout",
     "output_type": "stream",
     "text": [
      "Collecting opendatasets\n",
      "  Downloading opendatasets-0.1.22-py3-none-any.whl (15 kB)\n",
      "Requirement already satisfied: tqdm in /Users/olivia/opt/anaconda3/lib/python3.9/site-packages (from opendatasets) (4.64.1)\n",
      "Requirement already satisfied: click in /Users/olivia/opt/anaconda3/lib/python3.9/site-packages (from opendatasets) (8.0.4)\n",
      "Collecting kaggle\n",
      "  Downloading kaggle-1.5.13.tar.gz (63 kB)\n",
      "\u001b[2K     \u001b[90m━━━━━━━━━━━━━━━━━━━━━━━━━━━━━━━━━━━━━━━━\u001b[0m \u001b[32m63.3/63.3 kB\u001b[0m \u001b[31m1.8 MB/s\u001b[0m eta \u001b[36m0:00:00\u001b[0m\n",
      "\u001b[?25h  Preparing metadata (setup.py) ... \u001b[?25ldone\n",
      "\u001b[?25hRequirement already satisfied: six>=1.10 in /Users/olivia/opt/anaconda3/lib/python3.9/site-packages (from kaggle->opendatasets) (1.16.0)\n",
      "Requirement already satisfied: certifi in /Users/olivia/opt/anaconda3/lib/python3.9/site-packages (from kaggle->opendatasets) (2022.9.24)\n",
      "Requirement already satisfied: python-dateutil in /Users/olivia/opt/anaconda3/lib/python3.9/site-packages (from kaggle->opendatasets) (2.8.2)\n",
      "Requirement already satisfied: requests in /Users/olivia/opt/anaconda3/lib/python3.9/site-packages (from kaggle->opendatasets) (2.28.1)\n",
      "Requirement already satisfied: python-slugify in /Users/olivia/opt/anaconda3/lib/python3.9/site-packages (from kaggle->opendatasets) (5.0.2)\n",
      "Requirement already satisfied: urllib3 in /Users/olivia/opt/anaconda3/lib/python3.9/site-packages (from kaggle->opendatasets) (1.26.11)\n",
      "Requirement already satisfied: text-unidecode>=1.3 in /Users/olivia/opt/anaconda3/lib/python3.9/site-packages (from python-slugify->kaggle->opendatasets) (1.3)\n",
      "Requirement already satisfied: idna<4,>=2.5 in /Users/olivia/opt/anaconda3/lib/python3.9/site-packages (from requests->kaggle->opendatasets) (3.3)\n",
      "Requirement already satisfied: charset-normalizer<3,>=2 in /Users/olivia/opt/anaconda3/lib/python3.9/site-packages (from requests->kaggle->opendatasets) (2.0.4)\n",
      "Building wheels for collected packages: kaggle\n",
      "  Building wheel for kaggle (setup.py) ... \u001b[?25ldone\n",
      "\u001b[?25h  Created wheel for kaggle: filename=kaggle-1.5.13-py3-none-any.whl size=77717 sha256=5bbb771c178ba8f8742df251a1046761fda49d55aa8fbb2d515eb8a16572c912\n",
      "  Stored in directory: /Users/olivia/Library/Caches/pip/wheels/9c/45/15/6d6d116cd2539fb8f450d64b0aee4a480e5366bb11b42ac763\n",
      "Successfully built kaggle\n",
      "Installing collected packages: kaggle, opendatasets\n",
      "Successfully installed kaggle-1.5.13 opendatasets-0.1.22\n"
     ]
    }
   ],
   "source": [
    "!pip install opendatasets"
   ]
  },
  {
   "cell_type": "code",
   "execution_count": 2,
   "id": "2ca7d4ac",
   "metadata": {},
   "outputs": [
    {
     "name": "stdout",
     "output_type": "stream",
     "text": [
      "Please provide your Kaggle credentials to download this dataset. Learn more: http://bit.ly/kaggle-creds\n",
      "Your Kaggle username: oliviaca\n",
      "Your Kaggle Key: ········\n",
      "Downloading asl-alphabet.zip to ./asl-alphabet\n"
     ]
    },
    {
     "name": "stderr",
     "output_type": "stream",
     "text": [
      "100%|████████████████████████████████████████████████████████████████████████████████████████████████| 1.03G/1.03G [02:18<00:00, 7.97MB/s]\n"
     ]
    },
    {
     "name": "stdout",
     "output_type": "stream",
     "text": [
      "\n"
     ]
    }
   ],
   "source": [
    "# Load Data\n",
    "# e47b8a8f882b698603f2356e6e48d778\n",
    "import opendatasets as od\n",
    "od.download(\"https://www.kaggle.com/datasets/grassknoted/asl-alphabet/download?datasetVersionNumber=1\")"
   ]
  },
  {
   "cell_type": "code",
   "execution_count": null,
   "id": "9765be5e",
   "metadata": {},
   "outputs": [],
   "source": []
  }
 ],
 "metadata": {
  "kernelspec": {
   "display_name": "Python 3 (ipykernel)",
   "language": "python",
   "name": "python3"
  },
  "language_info": {
   "codemirror_mode": {
    "name": "ipython",
    "version": 3
   },
   "file_extension": ".py",
   "mimetype": "text/x-python",
   "name": "python",
   "nbconvert_exporter": "python",
   "pygments_lexer": "ipython3",
   "version": "3.9.13"
  }
 },
 "nbformat": 4,
 "nbformat_minor": 5
}
